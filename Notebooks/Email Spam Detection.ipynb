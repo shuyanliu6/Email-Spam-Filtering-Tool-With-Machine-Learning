{
 "cells": [
  {
   "cell_type": "markdown",
   "id": "870f76e7-e8c4-4fcf-b0b0-73bcca02874e",
   "metadata": {},
   "source": [
    "# Email Spam Detection with Machine Learning Algorithms \n",
    "By Shuyan Liu sl10158@nyu.edu"
   ]
  },
  {
   "cell_type": "markdown",
   "id": "d9408e88-9b01-4ba2-8c55-7f472ca50e0c",
   "metadata": {},
   "source": [
    "## Introduction\n",
    "\n",
    "Email spam remains one of the most significant and persistent challenges in digital communication, affecting productivity, security, and user experience. With the advent of more sophisticated spamming techniques, traditional spam filters, which often rely on static rule-based systems, struggle to keep pace. In response to this evolving threat, my project utilizes advanced machine learning algorithms to develop a dynamic and robust spam detection system. This paper outlines the design, implementation, and evaluation of our machine learning model that aims to identify and filter spam emails with heightened accuracy and efficiency. By integrating a combination of natural language processing and supervised learning techniques, we seek to create a system that not only detects known spam traits but also adapts to new spamming methods as they emerge. This report details the datasets used, preprocessing method, model selection, training methodologies, and the performance metrics of our proposed solution."
   ]
  },
  {
   "cell_type": "markdown",
   "id": "42e3dacd-c0e4-4977-9343-a62fe264f52d",
   "metadata": {
    "tags": []
   },
   "source": [
    "## Datasets Used\n",
    "\n",
    "##### Trec 2006 Spam data (53,668 emails, 29,923 ham, 23,745 spam)\n",
    "##### Trec 2007 Spam data (17,309 emails, 12,508 ham, 4,801 spam)\n",
    "##### Spam Email dataset 3 from Kaggle (5,127 emails, 2,259 ham, 2,868 spam)"
   ]
  },
  {
   "cell_type": "markdown",
   "id": "06c15f0e-36c8-42c9-8375-1812da48a33f",
   "metadata": {
    "tags": []
   },
   "source": [
    "## Data Preprocesing\n",
    "\n",
    "In this project, I implemented a series of data preprocessing steps to prepare textual data for subsequent analysis. These steps are crucial for reducing the noise in the data and enhancing the performance of the machine learning models.\n",
    "\n",
    "### 1. Lowercasing\n",
    "All text was converted to lowercase to ensure uniformity, thus reducing the complexity of the data and the computational resources required for processing.\n",
    "\n",
    "### 2. Removal of Email Subject Prefix\n",
    "I removed specific prefixes (e.g., 'subject:') from the text to eliminate redundant information that could bias the results.\n",
    "\n",
    "### 3. Number Replacement\n",
    "All numeric values were replaced with the placeholder 'escapenumber'. This step helps in generalizing the model’s understanding of numerical data without losing the context provided by the presence of numbers.\n",
    "\n",
    "### 4. Tokenization\n",
    "The text was tokenized into individual words using NLTK’s tokenizer. Tokenization is fundamental in text processing to convert strings into manageable units for analysis.\n",
    "\n",
    "### 5. Filtering Non-Alphanumeric Characters\n",
    "I filtered out tokens that were not alphanumeric, removing special characters that do not contribute to the semantic meaning of the text.\n",
    "\n",
    "### 6. Stopwords and Punctuation Removal\n",
    "Commonly used words in English that carry minimal meaningful information (stopwords) and all punctuation were removed. This step helps focus the analysis on significant words.\n",
    "\n",
    "### 7. Stemming\n",
    "I applied the Porter Stemming algorithm to reduce words to their base or root form. Stemming helps in reducing the complexity of the text and improving the model’s performance by consolidating similar forms of a word.\n",
    "\n",
    "By applying these preprocessing steps, I effectively standardized the text data, enhancing the efficacy of the natural language processing tasks. These methods are designed to support my goal of developing a robust model capable of understanding and processing human language efficiently.\n"
   ]
  },
  {
   "cell_type": "markdown",
   "id": "6e2b88ec-8467-4097-b949-f3a77e115149",
   "metadata": {},
   "source": [
    "## Exploratory Data Analysis"
   ]
  },
  {
   "cell_type": "code",
   "execution_count": 2,
   "id": "24af72b1-a036-454c-b8ef-bc23e7bdd8b6",
   "metadata": {
    "tags": []
   },
   "outputs": [],
   "source": [
    "import numpy as np\n",
    "import pandas as pd\n",
    "import matplotlib.pyplot as plt\n",
    "import seaborn as sns"
   ]
  },
  {
   "cell_type": "code",
   "execution_count": 6,
   "id": "f3ef0026-b6ea-48c6-a915-2cd9ae7e4408",
   "metadata": {
    "tags": []
   },
   "outputs": [
    {
     "data": {
      "text/html": [
       "<div>\n",
       "<style scoped>\n",
       "    .dataframe tbody tr th:only-of-type {\n",
       "        vertical-align: middle;\n",
       "    }\n",
       "\n",
       "    .dataframe tbody tr th {\n",
       "        vertical-align: top;\n",
       "    }\n",
       "\n",
       "    .dataframe thead th {\n",
       "        text-align: right;\n",
       "    }\n",
       "</style>\n",
       "<table border=\"1\" class=\"dataframe\">\n",
       "  <thead>\n",
       "    <tr style=\"text-align: right;\">\n",
       "      <th></th>\n",
       "      <th>label</th>\n",
       "      <th>text</th>\n",
       "    </tr>\n",
       "  </thead>\n",
       "  <tbody>\n",
       "    <tr>\n",
       "      <th>0</th>\n",
       "      <td>1</td>\n",
       "      <td>do you feel the pressure to perform and not ri...</td>\n",
       "    </tr>\n",
       "    <tr>\n",
       "      <th>1</th>\n",
       "      <td>0</td>\n",
       "      <td>hi i've just updated from the gulus and i chec...</td>\n",
       "    </tr>\n",
       "    <tr>\n",
       "      <th>2</th>\n",
       "      <td>1</td>\n",
       "      <td>mega authenticv i a g r a discount pricec i a ...</td>\n",
       "    </tr>\n",
       "    <tr>\n",
       "      <th>3</th>\n",
       "      <td>1</td>\n",
       "      <td>hey billy it was really fun going out the othe...</td>\n",
       "    </tr>\n",
       "    <tr>\n",
       "      <th>4</th>\n",
       "      <td>1</td>\n",
       "      <td>system of the home it will have the capabiliti...</td>\n",
       "    </tr>\n",
       "    <tr>\n",
       "      <th>...</th>\n",
       "      <td>...</td>\n",
       "      <td>...</td>\n",
       "    </tr>\n",
       "    <tr>\n",
       "      <th>53663</th>\n",
       "      <td>1</td>\n",
       "      <td>versuchen sie unser produkt und sie werden fuh...</td>\n",
       "    </tr>\n",
       "    <tr>\n",
       "      <th>53664</th>\n",
       "      <td>1</td>\n",
       "      <td>while we may have high expectations of our ass...</td>\n",
       "    </tr>\n",
       "    <tr>\n",
       "      <th>53665</th>\n",
       "      <td>0</td>\n",
       "      <td>for those who are interested i just cook a lit...</td>\n",
       "    </tr>\n",
       "    <tr>\n",
       "      <th>53666</th>\n",
       "      <td>0</td>\n",
       "      <td>hello as i wrote i call sqlfetch channel t stu...</td>\n",
       "    </tr>\n",
       "    <tr>\n",
       "      <th>53667</th>\n",
       "      <td>1</td>\n",
       "      <td>well are implicated when does not the stage wh...</td>\n",
       "    </tr>\n",
       "  </tbody>\n",
       "</table>\n",
       "<p>53668 rows × 2 columns</p>\n",
       "</div>"
      ],
      "text/plain": [
       "       label                                               text\n",
       "0          1  do you feel the pressure to perform and not ri...\n",
       "1          0  hi i've just updated from the gulus and i chec...\n",
       "2          1  mega authenticv i a g r a discount pricec i a ...\n",
       "3          1  hey billy it was really fun going out the othe...\n",
       "4          1  system of the home it will have the capabiliti...\n",
       "...      ...                                                ...\n",
       "53663      1  versuchen sie unser produkt und sie werden fuh...\n",
       "53664      1  while we may have high expectations of our ass...\n",
       "53665      0  for those who are interested i just cook a lit...\n",
       "53666      0  hello as i wrote i call sqlfetch channel t stu...\n",
       "53667      1  well are implicated when does not the stage wh...\n",
       "\n",
       "[53668 rows x 2 columns]"
      ]
     },
     "execution_count": 6,
     "metadata": {},
     "output_type": "execute_result"
    }
   ],
   "source": [
    "df_trec_2007 = pd.read_csv('/Users/shuyan/Desktop/MASY 4100 Capstone/Code/Data/email_text.csv')\n",
    "df_trec_2007"
   ]
  },
  {
   "cell_type": "code",
   "execution_count": 8,
   "id": "ea0312ef-7ba4-451a-93fa-2a18885980f6",
   "metadata": {
    "tags": []
   },
   "outputs": [
    {
     "name": "stdout",
     "output_type": "stream",
     "text": [
      "label    0\n",
      "text     0\n",
      "dtype: int64\n"
     ]
    }
   ],
   "source": [
    "# Check for missing values\n",
    "print(df_trec_2007.isnull().sum())"
   ]
  },
  {
   "cell_type": "code",
   "execution_count": 9,
   "id": "b7e98712-a090-48d1-91cf-f12f62df52c1",
   "metadata": {
    "tags": []
   },
   "outputs": [
    {
     "data": {
      "text/plain": [
       "0"
      ]
     },
     "execution_count": 9,
     "metadata": {},
     "output_type": "execute_result"
    }
   ],
   "source": [
    "#check duplicate values\n",
    "df_trec_2007.duplicated().sum()"
   ]
  },
  {
   "cell_type": "code",
   "execution_count": 10,
   "id": "4822c507-9287-45ac-b7b9-37c2fe38233a",
   "metadata": {
    "tags": []
   },
   "outputs": [
    {
     "name": "stdout",
     "output_type": "stream",
     "text": [
      "label\n",
      "1    29923\n",
      "0    23745\n",
      "Name: count, dtype: int64\n"
     ]
    }
   ],
   "source": [
    "# Count the number of spam and not-spam texts\n",
    "print(df_trec_2007['label'].value_counts())"
   ]
  },
  {
   "cell_type": "code",
   "execution_count": 12,
   "id": "80dc8634-9233-47fd-9bf0-c88e10c988c8",
   "metadata": {
    "tags": []
   },
   "outputs": [
    {
     "data": {
      "text/plain": [
       "<Axes: xlabel='label_str', ylabel='Density'>"
      ]
     },
     "execution_count": 12,
     "metadata": {},
     "output_type": "execute_result"
    },
    {
     "data": {
      "image/png": "[encoded data removed]",
      "text/plain": [
       "<Figure size 640x480 with 1 Axes>"
      ]
     },
     "metadata": {},
     "output_type": "display_data"
    }
   ],
   "source": [
    "labeled_df = df_trec_2007.copy()\n",
    "labeled_df['label_str'] = labeled_df['label'].map({0: 'ham', 1: 'spam'})\n",
    "sns.histplot(labeled_df, x='label_str' , discrete=True, stat='density')"
   ]
  },
  {
   "cell_type": "code",
   "execution_count": 15,
   "id": "792bde4a-0d5e-49d8-b540-bb7b8e0ba178",
   "metadata": {
    "tags": []
   },
   "outputs": [
    {
     "name": "stderr",
     "output_type": "stream",
     "text": [
      "[nltk_data] Downloading package stopwords to\n",
      "[nltk_data]     /Users/shuyan/nltk_data...\n",
      "[nltk_data]   Package stopwords is already up-to-date!\n",
      "[nltk_data] Downloading package punkt to /Users/shuyan/nltk_data...\n",
      "[nltk_data]   Package punkt is already up-to-date!\n"
     ]
    },
    {
     "data": {
      "text/plain": [
       "True"
      ]
     },
     "execution_count": 15,
     "metadata": {},
     "output_type": "execute_result"
    }
   ],
   "source": [
    "# Importing NLTK for natural language processing\n",
    "import nltk\n",
    "from nltk.corpus import stopwords    # For stopwords\n",
    "\n",
    "\n",
    "# Downloading NLTK data\n",
    "nltk.download('stopwords')   # Downloading stopwords data\n",
    "nltk.download('punkt')       # Downloading tokenizer data"
   ]
  },
  {
   "cell_type": "code",
   "execution_count": 16,
   "id": "b35bb978-8846-4baa-a7a5-077705389916",
   "metadata": {
    "tags": []
   },
   "outputs": [],
   "source": [
    "# function for preprocessing\n",
    "\n",
    "import nltk\n",
    "import string\n",
    "import re\n",
    "from nltk.corpus import stopwords\n",
    "from nltk.stem.porter import PorterStemmer\n",
    "from nltk.tokenize import word_tokenize\n",
    "\n",
    "# Initialize Porter Stemmer\n",
    "ps = PorterStemmer()\n",
    "\n",
    "def transform_text(text):\n",
    "    \n",
    "    # Lower case\n",
    "    text = text.lower()\n",
    "    # Optional: remove subject, specifically for this df\n",
    "    text = text.replace('subject:', '')\n",
    "    # Replace numbers with 'escapenumber'\n",
    "    text = re.sub(r'\\d+', 'escapenumber', text)\n",
    "    \n",
    "    # Tokenization\n",
    "    text = word_tokenize(text)\n",
    "    \n",
    "    # Remove special characters and keep alphanumeric\n",
    "    text = [word for word in text if word.isalnum()]\n",
    "    \n",
    "    # Remove stopwords and punctuation\n",
    "    stop_words = set(stopwords.words('english'))  # Initialize stop words set\n",
    "    text = [word for word in text if word not in stop_words and word not in string.punctuation]\n",
    "    \n",
    "    # Stemming\n",
    "    text = [ps.stem(word) for word in text]\n",
    "    \n",
    "    # Return the cleaned text\n",
    "    return \" \".join(text)\n"
   ]
  },
  {
   "cell_type": "code",
   "execution_count": 18,
   "id": "f1276880-d3b8-4c41-99f3-597110955f08",
   "metadata": {
    "tags": []
   },
   "outputs": [
    {
     "name": "stdout",
     "output_type": "stream",
     "text": [
      "Original: do you feel the pressure to perform and not rising to the occasion try v ia gr a your anxiety will be a thing of the past and you will be back to your old self . \n",
      "Cleaned: feel pressur perform rise occas tri v ia gr anxieti thing past back old self\n"
     ]
    }
   ],
   "source": [
    "#text the function\n",
    "print(f'Original: {df_trec_2007.iloc[0,1]}. \\nCleaned: {transform_text(df_trec_2007.iloc[0,1])}')\n"
   ]
  },
  {
   "cell_type": "code",
   "execution_count": 20,
   "id": "cbdaeb2b-6f1d-417e-a9b9-e6546012c884",
   "metadata": {
    "tags": []
   },
   "outputs": [
    {
     "data": {
      "text/html": [
       "<div>\n",
       "<style scoped>\n",
       "    .dataframe tbody tr th:only-of-type {\n",
       "        vertical-align: middle;\n",
       "    }\n",
       "\n",
       "    .dataframe tbody tr th {\n",
       "        vertical-align: top;\n",
       "    }\n",
       "\n",
       "    .dataframe thead th {\n",
       "        text-align: right;\n",
       "    }\n",
       "</style>\n",
       "<table border=\"1\" class=\"dataframe\">\n",
       "  <thead>\n",
       "    <tr style=\"text-align: right;\">\n",
       "      <th></th>\n",
       "      <th>label</th>\n",
       "      <th>text</th>\n",
       "      <th>transformed_text</th>\n",
       "    </tr>\n",
       "  </thead>\n",
       "  <tbody>\n",
       "    <tr>\n",
       "      <th>0</th>\n",
       "      <td>1</td>\n",
       "      <td>do you feel the pressure to perform and not ri...</td>\n",
       "      <td>feel pressur perform rise occas tri v ia gr an...</td>\n",
       "    </tr>\n",
       "    <tr>\n",
       "      <th>1</th>\n",
       "      <td>0</td>\n",
       "      <td>hi i've just updated from the gulus and i chec...</td>\n",
       "      <td>hi updat gulu check mirror seem littl typo deb...</td>\n",
       "    </tr>\n",
       "    <tr>\n",
       "      <th>2</th>\n",
       "      <td>1</td>\n",
       "      <td>mega authenticv i a g r a discount pricec i a ...</td>\n",
       "      <td>mega authenticv g r discount pricec l discount...</td>\n",
       "    </tr>\n",
       "    <tr>\n",
       "      <th>3</th>\n",
       "      <td>1</td>\n",
       "      <td>hey billy it was really fun going out the othe...</td>\n",
       "      <td>hey billi realli fun go night talk said felt i...</td>\n",
       "    </tr>\n",
       "    <tr>\n",
       "      <th>4</th>\n",
       "      <td>1</td>\n",
       "      <td>system of the home it will have the capabiliti...</td>\n",
       "      <td>system home capabl link far know within part r...</td>\n",
       "    </tr>\n",
       "    <tr>\n",
       "      <th>...</th>\n",
       "      <td>...</td>\n",
       "      <td>...</td>\n",
       "      <td>...</td>\n",
       "    </tr>\n",
       "    <tr>\n",
       "      <th>53663</th>\n",
       "      <td>1</td>\n",
       "      <td>versuchen sie unser produkt und sie werden fuh...</td>\n",
       "      <td>versuchen sie unser produkt und sie werden fuh...</td>\n",
       "    </tr>\n",
       "    <tr>\n",
       "      <th>53664</th>\n",
       "      <td>1</td>\n",
       "      <td>while we may have high expectations of our ass...</td>\n",
       "      <td>may high expect associ also give high reward i...</td>\n",
       "    </tr>\n",
       "    <tr>\n",
       "      <th>53665</th>\n",
       "      <td>0</td>\n",
       "      <td>for those who are interested i just cook a lit...</td>\n",
       "      <td>interest cook littl tcltkhelp function eas acc...</td>\n",
       "    </tr>\n",
       "    <tr>\n",
       "      <th>53666</th>\n",
       "      <td>0</td>\n",
       "      <td>hello as i wrote i call sqlfetch channel t stu...</td>\n",
       "      <td>hello wrote call sqlfetch channel studi functi...</td>\n",
       "    </tr>\n",
       "    <tr>\n",
       "      <th>53667</th>\n",
       "      <td>1</td>\n",
       "      <td>well are implicated when does not the stage wh...</td>\n",
       "      <td>well implic stage seen minut began terminu yea...</td>\n",
       "    </tr>\n",
       "  </tbody>\n",
       "</table>\n",
       "<p>53668 rows × 3 columns</p>\n",
       "</div>"
      ],
      "text/plain": [
       "       label                                               text  \\\n",
       "0          1  do you feel the pressure to perform and not ri...   \n",
       "1          0  hi i've just updated from the gulus and i chec...   \n",
       "2          1  mega authenticv i a g r a discount pricec i a ...   \n",
       "3          1  hey billy it was really fun going out the othe...   \n",
       "4          1  system of the home it will have the capabiliti...   \n",
       "...      ...                                                ...   \n",
       "53663      1  versuchen sie unser produkt und sie werden fuh...   \n",
       "53664      1  while we may have high expectations of our ass...   \n",
       "53665      0  for those who are interested i just cook a lit...   \n",
       "53666      0  hello as i wrote i call sqlfetch channel t stu...   \n",
       "53667      1  well are implicated when does not the stage wh...   \n",
       "\n",
       "                                        transformed_text  \n",
       "0      feel pressur perform rise occas tri v ia gr an...  \n",
       "1      hi updat gulu check mirror seem littl typo deb...  \n",
       "2      mega authenticv g r discount pricec l discount...  \n",
       "3      hey billi realli fun go night talk said felt i...  \n",
       "4      system home capabl link far know within part r...  \n",
       "...                                                  ...  \n",
       "53663  versuchen sie unser produkt und sie werden fuh...  \n",
       "53664  may high expect associ also give high reward i...  \n",
       "53665  interest cook littl tcltkhelp function eas acc...  \n",
       "53666  hello wrote call sqlfetch channel studi functi...  \n",
       "53667  well implic stage seen minut began terminu yea...  \n",
       "\n",
       "[53668 rows x 3 columns]"
      ]
     },
     "execution_count": 20,
     "metadata": {},
     "output_type": "execute_result"
    }
   ],
   "source": [
    "# New column for cleaned text\n",
    "df_trec_2007['transformed_text'] = df_trec_2007['text'].apply(transform_text)\n",
    "df_trec_2007"
   ]
  },
  {
   "cell_type": "code",
   "execution_count": 22,
   "id": "34dca2d7-db6b-4fb0-84ef-150f1a6c4045",
   "metadata": {
    "tags": []
   },
   "outputs": [],
   "source": [
    "# Top 30 words of spam\n",
    "spam_corpus = []\n",
    "for sentence in df_trec_2007[df_trec_2007['label'] == 1]['transformed_text'].tolist():\n",
    "    for word in sentence.split():\n",
    "        spam_corpus.append(word)"
   ]
  },
  {
   "cell_type": "code",
   "execution_count": 23,
   "id": "ab94a215-5772-43d0-b267-cca413a39b06",
   "metadata": {
    "tags": []
   },
   "outputs": [
    {
     "data": {
      "image/png": "[encoded data removed]",
      "text/plain": [
       "<Figure size 640x480 with 1 Axes>"
      ]
     },
     "metadata": {},
     "output_type": "display_data"
    }
   ],
   "source": [
    "from collections import Counter\n",
    "filter_df = pd.DataFrame(Counter(spam_corpus).most_common(30))\n",
    "\n",
    "sns.barplot(data = filter_df, x = filter_df[0], y = filter_df[1], palette = 'bright')\n",
    "plt.xticks(rotation = 90)\n",
    "plt.show()"
   ]
  },
  {
   "cell_type": "code",
   "execution_count": 25,
   "id": "5265811a-dcc8-44e8-a0a8-3c4071109367",
   "metadata": {
    "tags": []
   },
   "outputs": [
    {
     "data": {
      "image/png": "[encoded data removed]",
      "text/plain": [
       "<Figure size 640x480 with 1 Axes>"
      ]
     },
     "metadata": {},
     "output_type": "display_data"
    }
   ],
   "source": [
    "ham_corpus = []\n",
    "for sentence in df_trec_2007[df_trec_2007['label'] == 0]['transformed_text'].tolist():\n",
    "    for word in sentence.split():\n",
    "        ham_corpus.append(word)\n",
    "filter_ham_df = pd.DataFrame(Counter(ham_corpus).most_common(30))\n",
    "sns.barplot(data = filter_ham_df, x = filter_ham_df[0], y = filter_ham_df[1], palette = 'cool')\n",
    "plt.xticks(rotation = 90)\n",
    "plt.show()"
   ]
  },
  {
   "cell_type": "markdown",
   "id": "54d8fbac-0b90-4929-83cb-344f55b600be",
   "metadata": {},
   "source": [
    "## Model Building"
   ]
  },
  {
   "cell_type": "markdown",
   "id": "1b689dc3-baea-4549-8bb6-edbfebf26819",
   "metadata": {
    "tags": []
   },
   "source": [
    "### Initializing CountVectorizer and TfidfVectorizer"
   ]
  },
  {
   "cell_type": "code",
   "execution_count": 27,
   "id": "27ed3853-7e91-4677-b05d-028da8ee7c96",
   "metadata": {
    "tags": []
   },
   "outputs": [],
   "source": [
    "from sklearn.feature_extraction.text import CountVectorizer, TfidfVectorizer\n",
    "cv = CountVectorizer()\n",
    "tfid = TfidfVectorizer(max_features = 3000)"
   ]
  },
  {
   "cell_type": "code",
   "execution_count": 28,
   "id": "1e99ae32-5718-4b7f-93cc-53dd43c8c6ae",
   "metadata": {
    "tags": []
   },
   "outputs": [
    {
     "data": {
      "text/plain": [
       "(array([[0., 0., 0., ..., 0., 0., 0.],\n",
       "        [0., 0., 0., ..., 0., 0., 0.],\n",
       "        [0., 0., 0., ..., 0., 0., 0.],\n",
       "        ...,\n",
       "        [0., 0., 0., ..., 0., 0., 0.],\n",
       "        [0., 0., 0., ..., 0., 0., 0.],\n",
       "        [0., 0., 0., ..., 0., 0., 0.]]),\n",
       " array([1, 0, 1, ..., 0, 0, 1]))"
      ]
     },
     "execution_count": 28,
     "metadata": {},
     "output_type": "execute_result"
    }
   ],
   "source": [
    "# set x and y\n",
    "X_trec_07 = tfid.fit_transform(df_trec_2007['transformed_text']).toarray()\n",
    "y_trec_07 = df_trec_2007['label'].values\n",
    "X_trec_07,y_trec_07"
   ]
  },
  {
   "cell_type": "markdown",
   "id": "fd008d75-0590-45a9-a4b5-ae4652263141",
   "metadata": {
    "tags": []
   },
   "source": [
    "### Split into Train and Test data"
   ]
  },
  {
   "cell_type": "code",
   "execution_count": 30,
   "id": "ba1955e6-924d-43ee-94bb-dc06ae34f889",
   "metadata": {
    "tags": []
   },
   "outputs": [],
   "source": [
    "from sklearn.model_selection import train_test_split\n",
    "X_train_trec_07, X_test_trec_07, y_train_trec_07, y_test_trec_07 = train_test_split(X_trec_07,y_trec_07,test_size = 0.2, random_state = 42)"
   ]
  },
  {
   "cell_type": "code",
   "execution_count": 32,
   "id": "fdde5878-a0ae-4a7b-87d1-03470a210409",
   "metadata": {
    "tags": []
   },
   "outputs": [
    {
     "data": {
      "text/plain": [
       "array([1, 1, 0, ..., 0, 1, 0])"
      ]
     },
     "execution_count": 32,
     "metadata": {},
     "output_type": "execute_result"
    }
   ],
   "source": [
    "y_train_trec_07"
   ]
  },
  {
   "cell_type": "markdown",
   "id": "22d6dfbc-6f4a-4fa1-8c01-107aaf1f31e0",
   "metadata": {
    "tags": []
   },
   "source": [
    "### Training the models and evaluating the models"
   ]
  },
  {
   "cell_type": "code",
   "execution_count": 34,
   "id": "59b547cb-54fb-4dc9-8a1e-c4ad85da29b6",
   "metadata": {
    "tags": []
   },
   "outputs": [],
   "source": [
    "from sklearn.linear_model import LogisticRegression\n",
    "from sklearn.svm import SVC\n",
    "from sklearn.naive_bayes import MultinomialNB\n",
    "from sklearn.tree import DecisionTreeClassifier\n",
    "from sklearn.neighbors import KNeighborsClassifier\n",
    "from sklearn.ensemble import RandomForestClassifier\n",
    "from sklearn.ensemble import GradientBoostingClassifier\n",
    "from xgboost import XGBClassifier"
   ]
  },
  {
   "cell_type": "code",
   "execution_count": 36,
   "id": "d1b482aa-cecc-4260-b7ef-052bb0ce6be4",
   "metadata": {
    "tags": []
   },
   "outputs": [],
   "source": [
    "svc_v1 = SVC(kernel= \"sigmoid\", gamma  = 1.0)\n",
    "knc_v1 = KNeighborsClassifier()\n",
    "mnb_v1 = MultinomialNB()\n",
    "dtc_v1 = DecisionTreeClassifier(max_depth = 5)\n",
    "lrc_v1 = LogisticRegression(solver = 'liblinear', penalty = 'l1')\n",
    "rfc_v1 = RandomForestClassifier(n_estimators = 50, random_state = 42 )\n",
    "gbdt_v1 = GradientBoostingClassifier(n_estimators = 50, random_state = 42)    \n",
    "xgb_v1  = XGBClassifier(n_estimators = 50, random_state = 42)"
   ]
  },
  {
   "cell_type": "code",
   "execution_count": 37,
   "id": "67c536f9-aae4-4c3c-bea6-68b09cc1a2e3",
   "metadata": {
    "tags": []
   },
   "outputs": [],
   "source": [
    "clfs_v1 = {\n",
    "    'SVC': svc_v1,\n",
    "    'KNN': knc_v1,\n",
    "    'NB' : mnb_v1,\n",
    "    'DT': dtc_v1,\n",
    "    'LR': lrc_v1,\n",
    "    'RF': rfc_v1,\n",
    "    'GBDT': gbdt_v1,\n",
    "    'xgb': xgb_v1\n",
    "    }    "
   ]
  },
  {
   "cell_type": "code",
   "execution_count": 41,
   "id": "9539fbcd-0763-4b6f-9115-f50a8eb3dfe0",
   "metadata": {
    "tags": []
   },
   "outputs": [],
   "source": [
    "from sklearn.metrics import accuracy_score, precision_score\n",
    "import time\n",
    "\n",
    "def train_classifier(clfs, X_train, y_train, X_test, y_test):\n",
    "    start_time = time.time()  # Start the timer\n",
    "    clfs.fit(X_train,y_train)\n",
    "    y_pred = clfs.predict(X_test)\n",
    "    accuracy = accuracy_score(y_test, y_pred)\n",
    "    precision = precision_score(y_test, y_pred)\n",
    "    end_time = time.time()  # Stop the timer\n",
    "    training_time = end_time - start_time  # Calculate the elapsed time\n",
    "    return accuracy , precision, training_time"
   ]
  },
  {
   "cell_type": "code",
   "execution_count": 42,
   "id": "3a4d434a-c33e-411a-92b6-f45fff6edfbf",
   "metadata": {
    "tags": []
   },
   "outputs": [
    {
     "name": "stdout",
     "output_type": "stream",
     "text": [
      "\n",
      "For:  SVC\n",
      "Accuracy:  0.9575181665735047\n",
      "Precision:  0.9629567267216703\n",
      "Training Time (seconds): 322.6147451400757\n",
      "\n",
      "For:  KNN\n",
      "Accuracy:  0.9364635736910751\n",
      "Precision:  0.9007447940416476\n",
      "Training Time (seconds): 9.185886859893799\n",
      "\n",
      "For:  NB\n",
      "Accuracy:  0.9554686044345072\n",
      "Precision:  0.9626626119276905\n",
      "Training Time (seconds): 0.22411608695983887\n",
      "\n",
      "For:  DT\n",
      "Accuracy:  0.95155580398733\n",
      "Precision:  0.9327918458353242\n",
      "Training Time (seconds): 4.488701105117798\n",
      "\n",
      "For:  LR\n",
      "Accuracy:  0.9860257126886529\n",
      "Precision:  0.981263472061018\n",
      "Training Time (seconds): 0.6370551586151123\n",
      "\n",
      "For:  RF\n",
      "Accuracy:  0.98993851313583\n",
      "Precision:  0.9881449323760227\n",
      "Training Time (seconds): 27.47608780860901\n",
      "\n",
      "For:  GBDT\n",
      "Accuracy:  0.965995900875722\n",
      "Precision:  0.9556569938050212\n",
      "Training Time (seconds): 131.17532205581665\n",
      "\n",
      "For:  xgb\n",
      "Accuracy:  0.9872368175889696\n",
      "Precision:  0.9832225913621262\n",
      "Training Time (seconds): 7.728002071380615\n"
     ]
    }
   ],
   "source": [
    "accuracy_scores = []\n",
    "precision_scores = []\n",
    "training_times = []\n",
    "\n",
    "for name , clfs in clfs_v1.items():\n",
    "    current_accuracy, current_precision, elapsed_time = train_classifier(clfs, X_train_trec_07, y_train_trec_07, X_test_trec_07, y_test_trec_07)\n",
    "    print()\n",
    "    print(\"For: \", name)\n",
    "    print(\"Accuracy: \", current_accuracy)\n",
    "    print(\"Precision: \", current_precision)\n",
    "    print(\"Training Time (seconds):\", elapsed_time)\n",
    "    \n",
    "    accuracy_scores.append(current_accuracy)\n",
    "    precision_scores.append(current_precision)\n",
    "    training_times.append(elapsed_time)"
   ]
  },
  {
   "cell_type": "markdown",
   "id": "d066858f-a353-43d1-b16a-175b496f7c13",
   "metadata": {},
   "source": [
    "The models varied significantly in their training times and effectiveness, with Logistic Regression and Random Forest showing the best overall performance in terms of accuracy and precision, respectively. These results will guide the selection of an optimal model for deployment in spam email detection, considering both performance metrics and computational efficiency.\n",
    "\n"
   ]
  },
  {
   "cell_type": "markdown",
   "id": "4983900e-18c9-4e02-910e-eb939dfe4349",
   "metadata": {},
   "source": [
    "### Evaluating on Trec-06 dataset"
   ]
  },
  {
   "cell_type": "code",
   "execution_count": 43,
   "id": "b5404111-bc3d-493e-92fb-c9412f9d03ed",
   "metadata": {
    "tags": []
   },
   "outputs": [],
   "source": [
    "df_trec_06 = pd.read_csv('/Users/shuyan/Desktop/MASY 4100 Capstone/Datasets/Trec_06.csv')"
   ]
  },
  {
   "cell_type": "code",
   "execution_count": 44,
   "id": "98a360b0-78f7-471e-a169-83b478d7ede8",
   "metadata": {
    "tags": []
   },
   "outputs": [
    {
     "data": {
      "text/html": [
       "<div>\n",
       "<style scoped>\n",
       "    .dataframe tbody tr th:only-of-type {\n",
       "        vertical-align: middle;\n",
       "    }\n",
       "\n",
       "    .dataframe tbody tr th {\n",
       "        vertical-align: top;\n",
       "    }\n",
       "\n",
       "    .dataframe thead th {\n",
       "        text-align: right;\n",
       "    }\n",
       "</style>\n",
       "<table border=\"1\" class=\"dataframe\">\n",
       "  <thead>\n",
       "    <tr style=\"text-align: right;\">\n",
       "      <th></th>\n",
       "      <th>label</th>\n",
       "      <th>text</th>\n",
       "      <th>transformed_text</th>\n",
       "    </tr>\n",
       "  </thead>\n",
       "  <tbody>\n",
       "    <tr>\n",
       "      <th>0</th>\n",
       "      <td>0</td>\n",
       "      <td>the mailing list i queried about a few weeks a...</td>\n",
       "      <td>mail list queri week ago run also set archiv s...</td>\n",
       "    </tr>\n",
       "    <tr>\n",
       "      <th>1</th>\n",
       "      <td>1</td>\n",
       "      <td>luxury watches buy your own rolex for only esc...</td>\n",
       "      <td>luxuri watch buy rolex escapenumb rolex cartie...</td>\n",
       "    </tr>\n",
       "    <tr>\n",
       "      <th>2</th>\n",
       "      <td>1</td>\n",
       "      <td>academic qualifications available from prestig...</td>\n",
       "      <td>academ qualif avail prestigi non acc redit uni...</td>\n",
       "    </tr>\n",
       "    <tr>\n",
       "      <th>3</th>\n",
       "      <td>0</td>\n",
       "      <td>greetings all this is to verify your subscript...</td>\n",
       "      <td>greet verifi subscript planescapenumb fan list...</td>\n",
       "    </tr>\n",
       "    <tr>\n",
       "      <th>4</th>\n",
       "      <td>1</td>\n",
       "      <td>try chauncey may conferred the luscious not co...</td>\n",
       "      <td>tri chauncey may confer lusciou continu tonsil</td>\n",
       "    </tr>\n",
       "    <tr>\n",
       "      <th>...</th>\n",
       "      <td>...</td>\n",
       "      <td>...</td>\n",
       "      <td>...</td>\n",
       "    </tr>\n",
       "    <tr>\n",
       "      <th>17304</th>\n",
       "      <td>1</td>\n",
       "      <td>ch in a gold cor p symbol c gd c current price...</td>\n",
       "      <td>ch gold cor p symbol c gd c current price esca...</td>\n",
       "    </tr>\n",
       "    <tr>\n",
       "      <th>17305</th>\n",
       "      <td>0</td>\n",
       "      <td>begin pgp signed message hash shaescapenumber...</td>\n",
       "      <td>begin pgp sign messag hash shaescapenumb vulne...</td>\n",
       "    </tr>\n",
       "    <tr>\n",
       "      <th>17306</th>\n",
       "      <td>1</td>\n",
       "      <td>lucky draw global lotto promotions head office...</td>\n",
       "      <td>lucki draw global lotto promot head offic esca...</td>\n",
       "    </tr>\n",
       "    <tr>\n",
       "      <th>17307</th>\n",
       "      <td>0</td>\n",
       "      <td>i am running a script which plays a series of ...</td>\n",
       "      <td>run script play seri short sound file file pla...</td>\n",
       "    </tr>\n",
       "    <tr>\n",
       "      <th>17308</th>\n",
       "      <td>0</td>\n",
       "      <td>yeah a number of people over the years have ha...</td>\n",
       "      <td>yeah number peopl year similar problem want se...</td>\n",
       "    </tr>\n",
       "  </tbody>\n",
       "</table>\n",
       "<p>17309 rows × 3 columns</p>\n",
       "</div>"
      ],
      "text/plain": [
       "       label                                               text  \\\n",
       "0          0  the mailing list i queried about a few weeks a...   \n",
       "1          1  luxury watches buy your own rolex for only esc...   \n",
       "2          1  academic qualifications available from prestig...   \n",
       "3          0  greetings all this is to verify your subscript...   \n",
       "4          1  try chauncey may conferred the luscious not co...   \n",
       "...      ...                                                ...   \n",
       "17304      1  ch in a gold cor p symbol c gd c current price...   \n",
       "17305      0   begin pgp signed message hash shaescapenumber...   \n",
       "17306      1  lucky draw global lotto promotions head office...   \n",
       "17307      0  i am running a script which plays a series of ...   \n",
       "17308      0  yeah a number of people over the years have ha...   \n",
       "\n",
       "                                        transformed_text  \n",
       "0      mail list queri week ago run also set archiv s...  \n",
       "1      luxuri watch buy rolex escapenumb rolex cartie...  \n",
       "2      academ qualif avail prestigi non acc redit uni...  \n",
       "3      greet verifi subscript planescapenumb fan list...  \n",
       "4         tri chauncey may confer lusciou continu tonsil  \n",
       "...                                                  ...  \n",
       "17304  ch gold cor p symbol c gd c current price esca...  \n",
       "17305  begin pgp sign messag hash shaescapenumb vulne...  \n",
       "17306  lucki draw global lotto promot head offic esca...  \n",
       "17307  run script play seri short sound file file pla...  \n",
       "17308  yeah number peopl year similar problem want se...  \n",
       "\n",
       "[17309 rows x 3 columns]"
      ]
     },
     "execution_count": 44,
     "metadata": {},
     "output_type": "execute_result"
    }
   ],
   "source": [
    "# data preprocessing\n",
    "df_trec_06['transformed_text'] = df_trec_06['text'].apply(transform_text)\n",
    "df_trec_06"
   ]
  },
  {
   "cell_type": "code",
   "execution_count": 45,
   "id": "cd344edc-9b70-4847-891d-58951f63f3ea",
   "metadata": {
    "tags": []
   },
   "outputs": [],
   "source": [
    "# set x and y\n",
    "X_trec_06 = tfid.fit_transform(df_trec_06['transformed_text']).toarray()\n",
    "y_trec_06 = df_trec_06['label'].values"
   ]
  },
  {
   "cell_type": "code",
   "execution_count": 46,
   "id": "0eae91f3-6afe-4422-8ebe-421c90317a49",
   "metadata": {
    "tags": []
   },
   "outputs": [
    {
     "data": {
      "text/plain": [
       "(array([[0., 0., 0., ..., 0., 0., 0.],\n",
       "        [0., 0., 0., ..., 0., 0., 0.],\n",
       "        [0., 0., 0., ..., 0., 0., 0.],\n",
       "        ...,\n",
       "        [0., 0., 0., ..., 0., 0., 0.],\n",
       "        [0., 0., 0., ..., 0., 0., 0.],\n",
       "        [0., 0., 0., ..., 0., 0., 0.]]),\n",
       " array([0, 1, 1, ..., 1, 0, 0]))"
      ]
     },
     "execution_count": 46,
     "metadata": {},
     "output_type": "execute_result"
    }
   ],
   "source": [
    "X_trec_06,y_trec_06"
   ]
  },
  {
   "cell_type": "code",
   "execution_count": 47,
   "id": "9901791e-3cf4-44a3-a823-bf158dd7d359",
   "metadata": {
    "tags": []
   },
   "outputs": [],
   "source": [
    "clfs_v1_test = {\n",
    "    'SVC': svc_v1,\n",
    "    'KNN': knc_v1,\n",
    "    'NB' : mnb_v1,\n",
    "    'DT': dtc_v1,\n",
    "    'LR': lrc_v1,\n",
    "    'RF': rfc_v1,\n",
    "    'GBDT': gbdt_v1,\n",
    "    'xgb': xgb_v1\n",
    "}"
   ]
  },
  {
   "cell_type": "code",
   "execution_count": 48,
   "id": "13d58b4f-b50f-4c17-adac-ccbb768fd08c",
   "metadata": {
    "tags": []
   },
   "outputs": [],
   "source": [
    "def evaluate_classifier(clf, X_new, y_new):\n",
    "    start_time = time.time()  # Start timing\n",
    "    \n",
    "    y_pred = clf.predict(X_new)\n",
    "    accuracy = accuracy_score(y_new, y_pred)\n",
    "    precision = precision_score(y_new, y_pred) \n",
    "    \n",
    "    end_time = time.time()  # End timing\n",
    "    elapsed_time = end_time - start_time  # Calculate elapsed time\n",
    "    \n",
    "    return accuracy, precision, elapsed_time"
   ]
  },
  {
   "cell_type": "code",
   "execution_count": 50,
   "id": "f0631b79-9698-4b39-a6aa-cb0266c7b5cc",
   "metadata": {
    "tags": []
   },
   "outputs": [
    {
     "name": "stdout",
     "output_type": "stream",
     "text": [
      "\n",
      "For: SVC\n",
      "Accuracy: 0.4976024033739673\n",
      "Precision: 0.32101828876022426\n",
      "Elapsed Time (seconds): 78.39622402191162\n",
      "\n",
      "For: KNN\n",
      "Accuracy: 0.2721127737015426\n",
      "Precision: 0.2709434849018917\n",
      "Elapsed Time (seconds): 14.106353998184204\n",
      "\n",
      "For: NB\n",
      "Accuracy: 0.47790166965162634\n",
      "Precision: 0.30561674008810574\n",
      "Elapsed Time (seconds): 0.028307199478149414\n",
      "\n",
      "For: DT\n",
      "Accuracy: 0.2955687792477902\n",
      "Precision: 0.2775102335660968\n",
      "Elapsed Time (seconds): 0.10179615020751953\n",
      "\n",
      "For: LR\n",
      "Accuracy: 0.3220290022531631\n",
      "Precision: 0.2820319376335974\n",
      "Elapsed Time (seconds): 0.02756524085998535\n",
      "\n",
      "For: RF\n",
      "Accuracy: 0.4260789184817147\n",
      "Precision: 0.3129236824841461\n",
      "Elapsed Time (seconds): 0.5211780071258545\n",
      "\n",
      "For: GBDT\n",
      "Accuracy: 0.30047951932520656\n",
      "Precision: 0.2828787068401973\n",
      "Elapsed Time (seconds): 0.06727910041809082\n",
      "\n",
      "For: xgb\n",
      "Accuracy: 0.34045872089664336\n",
      "Precision: 0.2930095750672758\n",
      "Elapsed Time (seconds): 0.03024005889892578\n"
     ]
    }
   ],
   "source": [
    "# Test block\n",
    "accuracy_scores = []\n",
    "precision_scores = []\n",
    "timing_results = []\n",
    "\n",
    "for name, clf in clfs_v1_test.items():\n",
    "    current_accuracy, current_precision, elapsed_time = evaluate_classifier(clf, X_trec_06, y_trec_06)\n",
    "    print(\"\\nFor:\", name)\n",
    "    print(\"Accuracy:\", current_accuracy)\n",
    "    print(\"Precision:\", current_precision)\n",
    "    print(\"Elapsed Time (seconds):\", elapsed_time)\n",
    "    \n",
    "    accuracy_scores.append(current_accuracy)\n",
    "    precision_scores.append(current_precision)\n",
    "    timing_results.append(elapsed_time)"
   ]
  },
  {
   "cell_type": "markdown",
   "id": "81aaf92d-c7f1-40cd-b660-5a3c419e525f",
   "metadata": {},
   "source": [
    "Several factors could contribute to these suboptimal results: potential overfitting of the models to the training data, a mismatch or distribution shift between training and new data sets, or the simplicity of the models not capturing the complexity needed to generalize well to new data, insufficient training data(underfitting). Moving on I will first perform cross validation to check overfitting.  "
   ]
  },
  {
   "cell_type": "markdown",
   "id": "79f49d38-679b-4443-847a-7df3b6bc94fb",
   "metadata": {
    "tags": []
   },
   "source": [
    "### Cross Validation to Check Overfitting\n",
    "\n",
    "Because of the nature of SVC models that will require a lot computational power, two models are selected to perform cross validation, Naive Bayes and Random Forest."
   ]
  },
  {
   "cell_type": "code",
   "execution_count": 53,
   "id": "7cb6a806-0858-4ca7-8461-d18cd2cc9422",
   "metadata": {
    "tags": []
   },
   "outputs": [
    {
     "name": "stdout",
     "output_type": "stream",
     "text": [
      "NB Each fold result - [0.95435066 0.95984721 0.9569592  0.95695518 0.96058884]\n",
      "Naive Bayes - Average Accuracy: 0.958, Standard Deviation: 0.002\n"
     ]
    }
   ],
   "source": [
    "from sklearn.model_selection import cross_val_score, KFold\n",
    "from sklearn.datasets import load_iris\n",
    "from sklearn.pipeline import Pipeline\n",
    "\n",
    "X_val = df_trec_2007['transformed_text']\n",
    "y_val = df_trec_2007['label'].values\n",
    "\n",
    "# Create a pipeline with TfidfVectorizer and MultinomialNB\n",
    "pipeline = Pipeline([\n",
    "    ('tfidf', TfidfVectorizer(max_features=3000)),\n",
    "    ('classifier', MultinomialNB())\n",
    "])\n",
    "\n",
    "# Initialize the K-Fold cross-validation setup\n",
    "kf = KFold(n_splits=5, shuffle=True, random_state=42)\n",
    "\n",
    "#Initialize new classifier NB\n",
    "\n",
    "nb_val = MultinomialNB()\n",
    "# Perform cross-validation\n",
    "scores = cross_val_score(pipeline, X_val, y_val, cv=kf, scoring='accuracy')\n",
    "\n",
    "# Calculate and print the mean accuracy and standard deviation\n",
    "mean_accuracy = np.mean(scores)\n",
    "std_deviation = np.std(scores)\n",
    "print(f\"NB Each fold result - {scores}\")\n",
    "print(f\"Naive Bayes - Average Accuracy: {mean_accuracy:.3f}, Standard Deviation: {std_deviation:.3f}\")\n"
   ]
  },
  {
   "cell_type": "code",
   "execution_count": 54,
   "id": "49078fdd-3510-4c7c-be07-ad3bcb008c0d",
   "metadata": {
    "tags": []
   },
   "outputs": [
    {
     "name": "stdout",
     "output_type": "stream",
     "text": [
      "RF Each fold result - [0.98910006 0.99049748 0.99087013 0.99124196 0.9904966 ]\n",
      "RF - Average Accuracy: 0.990, Standard Deviation: 0.001\n"
     ]
    }
   ],
   "source": [
    "from sklearn.model_selection import cross_val_score, KFold\n",
    "from sklearn.datasets import load_iris\n",
    "from sklearn.pipeline import Pipeline\n",
    "\n",
    "X_val = df_trec_2007['transformed_text']\n",
    "y_val = df_trec_2007['label'].values\n",
    "\n",
    "# Create a pipeline with TfidfVectorizer and MultinomialNB\n",
    "pipeline = Pipeline([\n",
    "    ('tfidf', TfidfVectorizer(max_features=3000)),\n",
    "    ('classifier', RandomForestClassifier(n_estimators = 50, random_state = 42 ))\n",
    "])\n",
    "\n",
    "# Initialize the K-Fold cross-validation setup\n",
    "kf = KFold(n_splits=5, shuffle=True, random_state=42)\n",
    "\n",
    "#Initialize new classifier NB\n",
    "\n",
    "nb_val = MultinomialNB()\n",
    "# Perform cross-validation\n",
    "scores = cross_val_score(pipeline, X_val, y_val, cv=kf, scoring='accuracy')\n",
    "\n",
    "# Calculate and print the mean accuracy and standard deviation\n",
    "mean_accuracy = np.mean(scores)\n",
    "std_deviation = np.std(scores)\n",
    "\n",
    "print(f\"RF Each fold result - {scores}\")\n",
    "print(f\"RF - Average Accuracy: {mean_accuracy:.3f}, Standard Deviation: {std_deviation:.3f}\")\n"
   ]
  },
  {
   "cell_type": "markdown",
   "id": "e84f04f1-b081-4809-a83f-ffc8dfc2a01e",
   "metadata": {},
   "source": [
    "Similar results are produced with the original model's performance. It suggests that overfitting is less likely to be the problem of my models."
   ]
  },
  {
   "cell_type": "markdown",
   "id": "587a03f1-3c43-4195-8f3f-002ca426dd1f",
   "metadata": {},
   "source": [
    "### Incorporating Trec_06 and 07\n",
    "\n",
    "To address the other factor that possibly affected models' performance, the trec_06 and 07 datasets will be added together and models will be trained on the combined dataset again to seek improvement."
   ]
  },
  {
   "cell_type": "code",
   "execution_count": 56,
   "id": "02e24e8d-a123-4e76-91f2-516e45c413b3",
   "metadata": {
    "tags": []
   },
   "outputs": [
    {
     "data": {
      "text/html": [
       "<div>\n",
       "<style scoped>\n",
       "    .dataframe tbody tr th:only-of-type {\n",
       "        vertical-align: middle;\n",
       "    }\n",
       "\n",
       "    .dataframe tbody tr th {\n",
       "        vertical-align: top;\n",
       "    }\n",
       "\n",
       "    .dataframe thead th {\n",
       "        text-align: right;\n",
       "    }\n",
       "</style>\n",
       "<table border=\"1\" class=\"dataframe\">\n",
       "  <thead>\n",
       "    <tr style=\"text-align: right;\">\n",
       "      <th></th>\n",
       "      <th>cleaned_text</th>\n",
       "      <th>label</th>\n",
       "    </tr>\n",
       "  </thead>\n",
       "  <tbody>\n",
       "    <tr>\n",
       "      <th>0</th>\n",
       "      <td>feel pressur perform rise occas tri v ia gr an...</td>\n",
       "      <td>1</td>\n",
       "    </tr>\n",
       "    <tr>\n",
       "      <th>1</th>\n",
       "      <td>hi updat gulu check mirror seem littl typo deb...</td>\n",
       "      <td>0</td>\n",
       "    </tr>\n",
       "    <tr>\n",
       "      <th>2</th>\n",
       "      <td>mega authenticv g r discount pricec l discount...</td>\n",
       "      <td>1</td>\n",
       "    </tr>\n",
       "    <tr>\n",
       "      <th>3</th>\n",
       "      <td>hey billi realli fun go night talk said felt i...</td>\n",
       "      <td>1</td>\n",
       "    </tr>\n",
       "    <tr>\n",
       "      <th>4</th>\n",
       "      <td>system home capabl link far know within part r...</td>\n",
       "      <td>1</td>\n",
       "    </tr>\n",
       "    <tr>\n",
       "      <th>...</th>\n",
       "      <td>...</td>\n",
       "      <td>...</td>\n",
       "    </tr>\n",
       "    <tr>\n",
       "      <th>70972</th>\n",
       "      <td>ch gold cor p symbol c gd c current price esca...</td>\n",
       "      <td>1</td>\n",
       "    </tr>\n",
       "    <tr>\n",
       "      <th>70973</th>\n",
       "      <td>begin pgp sign messag hash shaescapenumb vulne...</td>\n",
       "      <td>0</td>\n",
       "    </tr>\n",
       "    <tr>\n",
       "      <th>70974</th>\n",
       "      <td>lucki draw global lotto promot head offic esca...</td>\n",
       "      <td>1</td>\n",
       "    </tr>\n",
       "    <tr>\n",
       "      <th>70975</th>\n",
       "      <td>run script play seri short sound file file pla...</td>\n",
       "      <td>0</td>\n",
       "    </tr>\n",
       "    <tr>\n",
       "      <th>70976</th>\n",
       "      <td>yeah number peopl year similar problem want se...</td>\n",
       "      <td>0</td>\n",
       "    </tr>\n",
       "  </tbody>\n",
       "</table>\n",
       "<p>70977 rows × 2 columns</p>\n",
       "</div>"
      ],
      "text/plain": [
       "                                            cleaned_text  label\n",
       "0      feel pressur perform rise occas tri v ia gr an...      1\n",
       "1      hi updat gulu check mirror seem littl typo deb...      0\n",
       "2      mega authenticv g r discount pricec l discount...      1\n",
       "3      hey billi realli fun go night talk said felt i...      1\n",
       "4      system home capabl link far know within part r...      1\n",
       "...                                                  ...    ...\n",
       "70972  ch gold cor p symbol c gd c current price esca...      1\n",
       "70973  begin pgp sign messag hash shaescapenumb vulne...      0\n",
       "70974  lucki draw global lotto promot head offic esca...      1\n",
       "70975  run script play seri short sound file file pla...      0\n",
       "70976  yeah number peopl year similar problem want se...      0\n",
       "\n",
       "[70977 rows x 2 columns]"
      ]
     },
     "execution_count": 56,
     "metadata": {},
     "output_type": "execute_result"
    }
   ],
   "source": [
    "df_trec_combined_cleaned = pd.concat([df_trec_2007['transformed_text'], df_trec_06['transformed_text']], ignore_index=True)\n",
    "df_trec_combined_label = pd.concat([df_trec_2007['label'], df_trec_06['label']], ignore_index=True)\n",
    "\n",
    "df_trec_06_07_combined = pd.DataFrame({\n",
    "    'cleaned_text': df_trec_combined_cleaned,\n",
    "    'label': df_trec_combined_label\n",
    "})\n",
    "df_trec_06_07_combined"
   ]
  },
  {
   "cell_type": "markdown",
   "id": "00bbc334-9d57-4071-a6f6-cd2355803bf4",
   "metadata": {},
   "source": [
    "### Training the new data"
   ]
  },
  {
   "cell_type": "code",
   "execution_count": 59,
   "id": "629d98f2-c2c5-4850-9aa2-8c5c08f64120",
   "metadata": {
    "tags": []
   },
   "outputs": [],
   "source": [
    "svc_v2 = SVC(kernel= \"sigmoid\", gamma  = 1.0)\n",
    "knc_v2 = KNeighborsClassifier()\n",
    "mnb_v2 = MultinomialNB()\n",
    "dtc_v2 = DecisionTreeClassifier(max_depth = 5)\n",
    "lrc_v2 = LogisticRegression(solver = 'liblinear', penalty = 'l1')\n",
    "rfc_v2 = RandomForestClassifier(n_estimators = 50, random_state = 42 )\n",
    "gbdt_v2 = GradientBoostingClassifier(n_estimators = 50, random_state = 42)    \n",
    "xgb_v2  = XGBClassifier(n_estimators = 50, random_state = 42)"
   ]
  },
  {
   "cell_type": "code",
   "execution_count": 60,
   "id": "ff0994d3-0edb-483a-84c7-47666d7c0e1c",
   "metadata": {
    "tags": []
   },
   "outputs": [],
   "source": [
    "clfs_v2 = {\n",
    "    'SVC': svc_v2,\n",
    "    'KNN': knc_v2,\n",
    "    'NB' : mnb_v2,\n",
    "    'DT': dtc_v2,\n",
    "    'LR': lrc_v2,\n",
    "    'RF': rfc_v2,\n",
    "    'GBDT': gbdt_v2,\n",
    "    'xgb': xgb_v2\n",
    "    }    "
   ]
  },
  {
   "cell_type": "code",
   "execution_count": 61,
   "id": "0a8d8d1b-ee92-4170-b410-df9c53134a81",
   "metadata": {
    "tags": []
   },
   "outputs": [
    {
     "data": {
      "text/plain": [
       "(array([[0., 0., 0., ..., 0., 0., 0.],\n",
       "        [0., 0., 0., ..., 0., 0., 0.],\n",
       "        [0., 0., 0., ..., 0., 0., 0.],\n",
       "        ...,\n",
       "        [0., 0., 0., ..., 0., 0., 0.],\n",
       "        [0., 0., 0., ..., 0., 0., 0.],\n",
       "        [0., 0., 0., ..., 0., 0., 0.]]),\n",
       " array([1, 0, 1, ..., 1, 0, 0]))"
      ]
     },
     "execution_count": 61,
     "metadata": {},
     "output_type": "execute_result"
    }
   ],
   "source": [
    "# set x and y\n",
    "X_trec_combined = tfid.fit_transform(df_trec_06_07_combined['cleaned_text']).toarray()\n",
    "y_trec_combined = df_trec_06_07_combined['label'].values\n",
    "X_trec_combined,y_trec_combined"
   ]
  },
  {
   "cell_type": "code",
   "execution_count": 62,
   "id": "892adce7-287e-4d72-afc8-bf460bc3a3bf",
   "metadata": {
    "tags": []
   },
   "outputs": [],
   "source": [
    "# SPliting data\n",
    "X_train_trec_combined, X_test_trec_combined, y_train_trec_combined, y_test_trec_combined = train_test_split(X_trec_combined,y_trec_combined,test_size = 0.2, random_state = 42)"
   ]
  },
  {
   "cell_type": "code",
   "execution_count": 64,
   "id": "fcdde5b0-293b-434e-b365-ef71b7fac4f5",
   "metadata": {
    "tags": []
   },
   "outputs": [
    {
     "name": "stdout",
     "output_type": "stream",
     "text": [
      "\n",
      "For:  SVC\n",
      "Accuracy:  0.8942659904198366\n",
      "Precision:  0.8927380779823163\n",
      "Training Time (seconds): 924.0918960571289\n",
      "\n",
      "For:  KNN\n",
      "Accuracy:  0.8576359537898\n",
      "Precision:  0.7760622112025245\n",
      "Training Time (seconds): 17.90381097793579\n",
      "\n",
      "For:  NB\n",
      "Accuracy:  0.9377993801070724\n",
      "Precision:  0.9472514446584679\n",
      "Training Time (seconds): 1.2389492988586426\n",
      "\n",
      "For:  DT\n",
      "Accuracy:  0.8558748943364328\n",
      "Precision:  0.7821254920120398\n",
      "Training Time (seconds): 6.04572319984436\n",
      "\n",
      "For:  LR\n",
      "Accuracy:  0.9752747252747253\n",
      "Precision:  0.9668798862828714\n",
      "Training Time (seconds): 0.8628449440002441\n",
      "\n",
      "For:  RF\n",
      "Accuracy:  0.9779515356438433\n",
      "Precision:  0.9831797572034519\n",
      "Training Time (seconds): 30.076893091201782\n",
      "\n",
      "For:  GBDT\n",
      "Accuracy:  0.9263172724711186\n",
      "Precision:  0.8938053097345132\n",
      "Training Time (seconds): 172.336110830307\n",
      "\n",
      "For:  xgb\n",
      "Accuracy:  0.9673147365455058\n",
      "Precision:  0.9549041713641488\n",
      "Training Time (seconds): 9.658546209335327\n"
     ]
    }
   ],
   "source": [
    "accuracy_scores = []\n",
    "precision_scores = []\n",
    "training_times = []\n",
    "\n",
    "for name , clfs in clfs_v2.items():\n",
    "    current_accuracy, current_precision, elapsed_time = train_classifier(clfs, X_train_trec_combined, y_train_trec_combined, X_test_trec_combined, y_test_trec_combined)\n",
    "    print()\n",
    "    print(\"For: \", name)\n",
    "    print(\"Accuracy: \", current_accuracy)\n",
    "    print(\"Precision: \", current_precision)\n",
    "    print(\"Training Time (seconds):\", elapsed_time)\n",
    "    \n",
    "    accuracy_scores.append(current_accuracy)\n",
    "    precision_scores.append(current_precision)\n",
    "    training_times.append(elapsed_time)"
   ]
  },
  {
   "cell_type": "markdown",
   "id": "1673c7a1-6663-40f3-8276-b745504faa30",
   "metadata": {},
   "source": [
    "### Testing on new data\n",
    "\n",
    "Dataset from Kaggle will be used as test dataset to evaluate models' performance on unseen data.\n",
    "##### Spam Email dataset 3 from Kaggle (5,127 emails, 2,259 ham, 2,868 spam)"
   ]
  },
  {
   "cell_type": "code",
   "execution_count": 125,
   "id": "557fda5e-3ef6-49d2-9317-8d1100910bee",
   "metadata": {
    "tags": []
   },
   "outputs": [],
   "source": [
    "df_test = pd.read_csv('/Users/shuyan/Desktop/MASY 4100 Capstone/Code/Data/df_test.csv')"
   ]
  },
  {
   "cell_type": "code",
   "execution_count": 126,
   "id": "08fd32b4-a761-413b-867f-d206addd4289",
   "metadata": {
    "tags": []
   },
   "outputs": [
    {
     "data": {
      "text/html": [
       "<div>\n",
       "<style scoped>\n",
       "    .dataframe tbody tr th:only-of-type {\n",
       "        vertical-align: middle;\n",
       "    }\n",
       "\n",
       "    .dataframe tbody tr th {\n",
       "        vertical-align: top;\n",
       "    }\n",
       "\n",
       "    .dataframe thead th {\n",
       "        text-align: right;\n",
       "    }\n",
       "</style>\n",
       "<table border=\"1\" class=\"dataframe\">\n",
       "  <thead>\n",
       "    <tr style=\"text-align: right;\">\n",
       "      <th></th>\n",
       "      <th>label</th>\n",
       "      <th>text</th>\n",
       "    </tr>\n",
       "  </thead>\n",
       "  <tbody>\n",
       "    <tr>\n",
       "      <th>0</th>\n",
       "      <td>0</td>\n",
       "      <td>hello in the license header of a source file b...</td>\n",
       "    </tr>\n",
       "    <tr>\n",
       "      <th>1</th>\n",
       "      <td>1</td>\n",
       "      <td>and pensive by turns lost his appetite neglect...</td>\n",
       "    </tr>\n",
       "    <tr>\n",
       "      <th>2</th>\n",
       "      <td>1</td>\n",
       "      <td>symbol alert http sescapenumber bilder hosting...</td>\n",
       "    </tr>\n",
       "    <tr>\n",
       "      <th>3</th>\n",
       "      <td>0</td>\n",
       "      <td>the internet patrol internet safety windows up...</td>\n",
       "    </tr>\n",
       "    <tr>\n",
       "      <th>4</th>\n",
       "      <td>0</td>\n",
       "      <td>escapenumberfxml version escapenumberd escape...</td>\n",
       "    </tr>\n",
       "    <tr>\n",
       "      <th>...</th>\n",
       "      <td>...</td>\n",
       "      <td>...</td>\n",
       "    </tr>\n",
       "    <tr>\n",
       "      <th>5122</th>\n",
       "      <td>1</td>\n",
       "      <td>summer bees were sayingthat this mud draws on ...</td>\n",
       "    </tr>\n",
       "    <tr>\n",
       "      <th>5123</th>\n",
       "      <td>1</td>\n",
       "      <td>gentile cliente di banca rasbank il servizio t...</td>\n",
       "    </tr>\n",
       "    <tr>\n",
       "      <th>5124</th>\n",
       "      <td>0</td>\n",
       "      <td>on mon escapenumber escapenumber escapenumber ...</td>\n",
       "    </tr>\n",
       "    <tr>\n",
       "      <th>5125</th>\n",
       "      <td>1</td>\n",
       "      <td>trading escapelong for you special situation a...</td>\n",
       "    </tr>\n",
       "    <tr>\n",
       "      <th>5126</th>\n",
       "      <td>1</td>\n",
       "      <td>as a business you have been preapproved to rec...</td>\n",
       "    </tr>\n",
       "  </tbody>\n",
       "</table>\n",
       "<p>5127 rows × 2 columns</p>\n",
       "</div>"
      ],
      "text/plain": [
       "      label                                               text\n",
       "0         0  hello in the license header of a source file b...\n",
       "1         1  and pensive by turns lost his appetite neglect...\n",
       "2         1  symbol alert http sescapenumber bilder hosting...\n",
       "3         0  the internet patrol internet safety windows up...\n",
       "4         0   escapenumberfxml version escapenumberd escape...\n",
       "...     ...                                                ...\n",
       "5122      1  summer bees were sayingthat this mud draws on ...\n",
       "5123      1  gentile cliente di banca rasbank il servizio t...\n",
       "5124      0  on mon escapenumber escapenumber escapenumber ...\n",
       "5125      1  trading escapelong for you special situation a...\n",
       "5126      1  as a business you have been preapproved to rec...\n",
       "\n",
       "[5127 rows x 2 columns]"
      ]
     },
     "execution_count": 126,
     "metadata": {},
     "output_type": "execute_result"
    }
   ],
   "source": [
    "df_test"
   ]
  },
  {
   "cell_type": "code",
   "execution_count": 127,
   "id": "e7666a62-71fc-4133-a362-fa014a7cf7f9",
   "metadata": {
    "tags": []
   },
   "outputs": [
    {
     "data": {
      "text/html": [
       "<div>\n",
       "<style scoped>\n",
       "    .dataframe tbody tr th:only-of-type {\n",
       "        vertical-align: middle;\n",
       "    }\n",
       "\n",
       "    .dataframe tbody tr th {\n",
       "        vertical-align: top;\n",
       "    }\n",
       "\n",
       "    .dataframe thead th {\n",
       "        text-align: right;\n",
       "    }\n",
       "</style>\n",
       "<table border=\"1\" class=\"dataframe\">\n",
       "  <thead>\n",
       "    <tr style=\"text-align: right;\">\n",
       "      <th></th>\n",
       "      <th>label</th>\n",
       "      <th>text</th>\n",
       "      <th>transformed_text</th>\n",
       "    </tr>\n",
       "  </thead>\n",
       "  <tbody>\n",
       "    <tr>\n",
       "      <th>0</th>\n",
       "      <td>0</td>\n",
       "      <td>hello in the license header of a source file b...</td>\n",
       "      <td>hello licens header sourc file licens gpl must...</td>\n",
       "    </tr>\n",
       "    <tr>\n",
       "      <th>1</th>\n",
       "      <td>1</td>\n",
       "      <td>and pensive by turns lost his appetite neglect...</td>\n",
       "      <td>pensiv turn lost appetit neglect dress devot m...</td>\n",
       "    </tr>\n",
       "    <tr>\n",
       "      <th>2</th>\n",
       "      <td>1</td>\n",
       "      <td>symbol alert http sescapenumber bilder hosting...</td>\n",
       "      <td>symbol alert http sescapenumb bilder host de i...</td>\n",
       "    </tr>\n",
       "    <tr>\n",
       "      <th>3</th>\n",
       "      <td>0</td>\n",
       "      <td>the internet patrol internet safety windows up...</td>\n",
       "      <td>internet patrol internet safeti window updat i...</td>\n",
       "    </tr>\n",
       "    <tr>\n",
       "      <th>4</th>\n",
       "      <td>0</td>\n",
       "      <td>escapenumberfxml version escapenumberd escape...</td>\n",
       "      <td>escapenumberfxml version escapenumberd escapen...</td>\n",
       "    </tr>\n",
       "    <tr>\n",
       "      <th>...</th>\n",
       "      <td>...</td>\n",
       "      <td>...</td>\n",
       "      <td>...</td>\n",
       "    </tr>\n",
       "    <tr>\n",
       "      <th>5122</th>\n",
       "      <td>1</td>\n",
       "      <td>summer bees were sayingthat this mud draws on ...</td>\n",
       "      <td>summer bee sayingthat mud draw stone hand free...</td>\n",
       "    </tr>\n",
       "    <tr>\n",
       "      <th>5123</th>\n",
       "      <td>1</td>\n",
       "      <td>gentile cliente di banca rasbank il servizio t...</td>\n",
       "      <td>gentil client di banca rasbank il servizio tec...</td>\n",
       "    </tr>\n",
       "    <tr>\n",
       "      <th>5124</th>\n",
       "      <td>0</td>\n",
       "      <td>on mon escapenumber escapenumber escapenumber ...</td>\n",
       "      <td>mon escapenumb escapenumb escapenumb escapenum...</td>\n",
       "    </tr>\n",
       "    <tr>\n",
       "      <th>5125</th>\n",
       "      <td>1</td>\n",
       "      <td>trading escapelong for you special situation a...</td>\n",
       "      <td>trade escapelong special situat alert tmxo tri...</td>\n",
       "    </tr>\n",
       "    <tr>\n",
       "      <th>5126</th>\n",
       "      <td>1</td>\n",
       "      <td>as a business you have been preapproved to rec...</td>\n",
       "      <td>busi preapprov receiv escapenumb usd today has...</td>\n",
       "    </tr>\n",
       "  </tbody>\n",
       "</table>\n",
       "<p>5127 rows × 3 columns</p>\n",
       "</div>"
      ],
      "text/plain": [
       "      label                                               text  \\\n",
       "0         0  hello in the license header of a source file b...   \n",
       "1         1  and pensive by turns lost his appetite neglect...   \n",
       "2         1  symbol alert http sescapenumber bilder hosting...   \n",
       "3         0  the internet patrol internet safety windows up...   \n",
       "4         0   escapenumberfxml version escapenumberd escape...   \n",
       "...     ...                                                ...   \n",
       "5122      1  summer bees were sayingthat this mud draws on ...   \n",
       "5123      1  gentile cliente di banca rasbank il servizio t...   \n",
       "5124      0  on mon escapenumber escapenumber escapenumber ...   \n",
       "5125      1  trading escapelong for you special situation a...   \n",
       "5126      1  as a business you have been preapproved to rec...   \n",
       "\n",
       "                                       transformed_text  \n",
       "0     hello licens header sourc file licens gpl must...  \n",
       "1     pensiv turn lost appetit neglect dress devot m...  \n",
       "2     symbol alert http sescapenumb bilder host de i...  \n",
       "3     internet patrol internet safeti window updat i...  \n",
       "4     escapenumberfxml version escapenumberd escapen...  \n",
       "...                                                 ...  \n",
       "5122  summer bee sayingthat mud draw stone hand free...  \n",
       "5123  gentil client di banca rasbank il servizio tec...  \n",
       "5124  mon escapenumb escapenumb escapenumb escapenum...  \n",
       "5125  trade escapelong special situat alert tmxo tri...  \n",
       "5126  busi preapprov receiv escapenumb usd today has...  \n",
       "\n",
       "[5127 rows x 3 columns]"
      ]
     },
     "execution_count": 127,
     "metadata": {},
     "output_type": "execute_result"
    }
   ],
   "source": [
    "# data preprocessing\n",
    "df_test['transformed_text'] = df_test['text'].apply(transform_text)\n",
    "df_test"
   ]
  },
  {
   "cell_type": "code",
   "execution_count": 133,
   "id": "cc6ecfb3-1948-4bca-9ba9-961975dc023b",
   "metadata": {
    "tags": []
   },
   "outputs": [
    {
     "data": {
      "text/plain": [
       "array([[0.        , 0.        , 0.        , ..., 0.        , 0.31805411,\n",
       "        0.        ],\n",
       "       [0.        , 0.51171899, 0.5088684 , ..., 0.        , 0.        ,\n",
       "        0.        ],\n",
       "       [0.        , 0.83561893, 0.        , ..., 0.        , 0.        ,\n",
       "        0.        ],\n",
       "       ...,\n",
       "       [0.        , 0.        , 0.        , ..., 0.21188486, 0.38821456,\n",
       "        0.        ],\n",
       "       [0.        , 0.60109605, 0.        , ..., 0.58928339, 0.5398413 ,\n",
       "        0.        ],\n",
       "       [0.        , 0.        , 0.        , ..., 0.        , 0.        ,\n",
       "        0.        ]])"
      ]
     },
     "execution_count": 133,
     "metadata": {},
     "output_type": "execute_result"
    }
   ],
   "source": [
    "# set x and y\n",
    "#X_test = tfid.fit_transform(df_test['transformed_text']).toarray()\n",
    "\n",
    "X_test = tfid.transform(df_test['transformed_text']).toarray()\n",
    "y_test = df_test['label'].values\n",
    "X_test"
   ]
  },
  {
   "cell_type": "code",
   "execution_count": 65,
   "id": "20304bc9-7764-4274-93d5-2e1b8a1f40ba",
   "metadata": {
    "tags": []
   },
   "outputs": [],
   "source": [
    "clfs_v2_test = {\n",
    "    'SVC': svc_v2,\n",
    "    'KNN': knc_v2,\n",
    "    'NB' : mnb_v2,\n",
    "    'DT': dtc_v2,\n",
    "    'LR': lrc_v2,\n",
    "    'RF': rfc_v2,\n",
    "    'GBDT': gbdt_v2,\n",
    "    'xgb': xgb_v2\n",
    "    }    "
   ]
  },
  {
   "cell_type": "code",
   "execution_count": 71,
   "id": "25e27c71-0f9a-4062-87a7-013ff4f91ad2",
   "metadata": {
    "tags": []
   },
   "outputs": [
    {
     "name": "stdout",
     "output_type": "stream",
     "text": [
      "\n",
      "For: SVC\n",
      "Accuracy: 0.5369611858786815\n",
      "Precision: 0.8019559902200489\n",
      "Elapsed Time (seconds): 52.38009071350098\n",
      "\n",
      "For: KNN\n",
      "Accuracy: 0.5582211819777648\n",
      "Precision: 0.5594088669950739\n",
      "Elapsed Time (seconds): 6.52618670463562\n",
      "\n",
      "For: NB\n",
      "Accuracy: 0.5293543982835966\n",
      "Precision: 0.6932880203908242\n",
      "Elapsed Time (seconds): 0.01209402084350586\n",
      "\n",
      "For: DT\n",
      "Accuracy: 0.5666081529159352\n",
      "Precision: 0.5647554129911788\n",
      "Elapsed Time (seconds): 0.026901960372924805\n",
      "\n",
      "For: LR\n",
      "Accuracy: 0.5063389896625707\n",
      "Precision: 0.5468445927161524\n",
      "Elapsed Time (seconds): 0.010329961776733398\n",
      "\n",
      "For: RF\n",
      "Accuracy: 0.6128340159937585\n",
      "Precision: 0.6622565233370085\n",
      "Elapsed Time (seconds): 0.22547388076782227\n",
      "\n",
      "For: GBDT\n",
      "Accuracy: 0.5822118197776478\n",
      "Precision: 0.5751864125932062\n",
      "Elapsed Time (seconds): 0.04033374786376953\n",
      "\n",
      "For: xgb\n",
      "Accuracy: 0.6192705285742149\n",
      "Precision: 0.6103082851637764\n",
      "Elapsed Time (seconds): 0.012920141220092773\n"
     ]
    }
   ],
   "source": [
    "# Test block\n",
    "accuracy_scores = []\n",
    "precision_scores = []\n",
    "timing_results = []\n",
    "\n",
    "for name, clf in clfs_v2_test.items():\n",
    "    current_accuracy, current_precision, elapsed_time = evaluate_classifier(clf, X_test, y_test)\n",
    "    print(\"\\nFor:\", name)\n",
    "    print(\"Accuracy:\", current_accuracy)\n",
    "    print(\"Precision:\", current_precision)\n",
    "    print(\"Elapsed Time (seconds):\", elapsed_time)\n",
    "    \n",
    "    accuracy_scores.append(current_accuracy)\n",
    "    precision_scores.append(current_precision)\n",
    "    timing_results.append(elapsed_time)"
   ]
  },
  {
   "cell_type": "code",
   "execution_count": 94,
   "id": "dff61937-84bf-4549-a544-c0e5b1288dad",
   "metadata": {
    "tags": []
   },
   "outputs": [
    {
     "name": "stdout",
     "output_type": "stream",
     "text": [
      "NB Each fold result - [0.93815159 0.93815159 0.93941529 0.94237408 0.93934484]\n",
      "Naive Bayes - Average Accuracy: 0.939, Standard Deviation: 0.002\n"
     ]
    }
   ],
   "source": [
    "from sklearn.model_selection import cross_val_score, KFold\n",
    "from sklearn.datasets import load_iris\n",
    "from sklearn.pipeline import Pipeline\n",
    "\n",
    "X_val = df_trec_06_07_combined['cleaned_text']\n",
    "y_val = df_trec_06_07_combined['label'].values\n",
    "\n",
    "# Create a pipeline with TfidfVectorizer and MultinomialNB\n",
    "pipeline = Pipeline([\n",
    "    ('tfidf', TfidfVectorizer(max_features=3000)),\n",
    "    ('classifier', MultinomialNB())\n",
    "])\n",
    "\n",
    "# Initialize the K-Fold cross-validation setup\n",
    "kf = KFold(n_splits=5, shuffle=True, random_state=42)\n",
    "\n",
    "#Initialize new classifier NB\n",
    "\n",
    "nb_val = MultinomialNB()\n",
    "# Perform cross-validation\n",
    "scores = cross_val_score(pipeline, X_val, y_val, cv=kf, scoring='accuracy')\n",
    "\n",
    "# Calculate and print the mean accuracy and standard deviation\n",
    "mean_accuracy = np.mean(scores)\n",
    "std_deviation = np.std(scores)\n",
    "print(f\"NB Each fold result - {scores}\")\n",
    "print(f\"Naive Bayes - Average Accuracy: {mean_accuracy:.3f}, Standard Deviation: {std_deviation:.3f}\")\n"
   ]
  },
  {
   "cell_type": "markdown",
   "id": "ada62f1d-5486-40ed-afd5-6e9c1e44e0c9",
   "metadata": {},
   "source": [
    "Model's perfromance inproved by around 5% for each model, to ease the computational power, I will select Naive Bayes and Random Froest as final models used for this task."
   ]
  },
  {
   "cell_type": "markdown",
   "id": "1a05f663-d938-471c-8fc2-7b38fcf7473d",
   "metadata": {
    "tags": []
   },
   "source": [
    "### Fine-Tuning the Models"
   ]
  },
  {
   "cell_type": "markdown",
   "id": "12359d59-7da0-43df-8a31-38b5897f1ae1",
   "metadata": {},
   "source": [
    "### Finding the best parameter for TF-IDF"
   ]
  },
  {
   "cell_type": "code",
   "execution_count": 99,
   "id": "5d93eb3c-b9f5-40f9-a0a1-14d52a5face0",
   "metadata": {
    "tags": []
   },
   "outputs": [
    {
     "name": "stdout",
     "output_type": "stream",
     "text": [
      "              Word  Frequency\n",
      "55921   escapenumb    1748322\n",
      "55913   escapelong     297464\n",
      "84340         http      99119\n",
      "33218          com      70885\n",
      "188660         use      61754\n",
      "131211         org      48123\n",
      "105936        list      48065\n",
      "200755         www      43103\n",
      "80907         help      42817\n",
      "109897        mail      41837\n",
      "129904         one      39623\n",
      "73394          get      37599\n",
      "50945          edu      36888\n",
      "179724        time      34181\n",
      "112094         may      33308\n",
      "199805       would      33141\n",
      "123210         new      32056\n",
      "66284         file      31898\n",
      "158003       samba      30771\n",
      "114123      messag      30345\n"
     ]
    }
   ],
   "source": [
    "from sklearn.feature_extraction.text import CountVectorizer\n",
    "### More EDA on the data\n",
    "vectorizer = CountVectorizer()\n",
    "w_fre = vectorizer.fit_transform(df_trec_06_07_combined['cleaned_text'])\n",
    "word_freq = np.array(w_fre.sum(axis=0)).flatten()\n",
    "word_index = vectorizer.get_feature_names_out()\n",
    "\n",
    "# Create a DataFrame for the word frequencies\n",
    "freq_df = pd.DataFrame({'Word': word_index, 'Frequency': word_freq})\n",
    "freq_df = freq_df.sort_values('Frequency', ascending=False)\n",
    "print(freq_df.head(20))\n"
   ]
  },
  {
   "cell_type": "code",
   "execution_count": 100,
   "id": "af486646-ecf4-44db-87b8-9dcee2c5311a",
   "metadata": {
    "tags": []
   },
   "outputs": [
    {
     "data": {
      "image/png": "[encoded data removed]",
      "text/plain": [
       "<Figure size 1000x600 with 1 Axes>"
      ]
     },
     "metadata": {},
     "output_type": "display_data"
    },
    {
     "data": {
      "text/plain": [
       "(0.24060737806251178, 0.7)"
      ]
     },
     "execution_count": 100,
     "metadata": {},
     "output_type": "execute_result"
    }
   ],
   "source": [
    "plt.figure(figsize=(10, 6))\n",
    "plt.hist(freq_df['Frequency'], bins=50, log=True)\n",
    "plt.title('Log-Frequency of Word Occurrences')\n",
    "plt.xlabel('Frequency of Words')\n",
    "plt.ylabel('Number of Words')\n",
    "plt.show()\n",
    "\n",
    "# Setting min_df and max_df based on the plot and the dataframe information\n",
    "min_df = freq_df['Frequency'][freq_df['Frequency'] > 5].count() / len(freq_df)\n",
    "max_df = 0.7  # As an example, to exclude very common words\n",
    "min_df,max_df"
   ]
  },
  {
   "cell_type": "code",
   "execution_count": 102,
   "id": "0f8834f0-e7c7-4775-a261-ca52022c5bd7",
   "metadata": {
    "tags": []
   },
   "outputs": [
    {
     "data": {
      "image/png": "[encoded data removed]",
      "text/plain": [
       "<Figure size 1000x600 with 1 Axes>"
      ]
     },
     "metadata": {},
     "output_type": "display_data"
    },
    {
     "data": {
      "text/plain": [
       "156219"
      ]
     },
     "execution_count": 102,
     "metadata": {},
     "output_type": "execute_result"
    }
   ],
   "source": [
    "# Calculate cumulative distribution of word frequencies\n",
    "freq_df['cumulative'] = freq_df['Frequency'].cumsum() / freq_df['Frequency'].sum()\n",
    "\n",
    "# Plot to see the point where additional words add little value\n",
    "plt.figure(figsize=(10, 6))\n",
    "plt.plot(freq_df['cumulative'])\n",
    "plt.title('Cumulative Distribution of Word Frequencies')\n",
    "plt.xlabel('Number of Features')\n",
    "plt.ylabel('Cumulative Frequency')\n",
    "plt.grid(True)\n",
    "plt.show()\n",
    "\n",
    "# Select max_features based on where the curve starts to plateau\n",
    "max_features = freq_df[freq_df['cumulative'] > 0.95].index[0]\n",
    "max_features"
   ]
  },
  {
   "cell_type": "code",
   "execution_count": 136,
   "id": "d13f7aec-7a38-42bb-858d-c3db86889cf8",
   "metadata": {
    "tags": []
   },
   "outputs": [
    {
     "data": {
      "text/html": [
       "<style>#sk-container-id-4 {\n",
       "  /* Definition of color scheme common for light and dark mode */\n",
       "  --sklearn-color-text: black;\n",
       "  --sklearn-color-line: gray;\n",
       "  /* Definition of color scheme for unfitted estimators */\n",
       "  --sklearn-color-unfitted-level-0: #fff5e6;\n",
       "  --sklearn-color-unfitted-level-1: #f6e4d2;\n",
       "  --sklearn-color-unfitted-level-2: #ffe0b3;\n",
       "  --sklearn-color-unfitted-level-3: chocolate;\n",
       "  /* Definition of color scheme for fitted estimators */\n",
       "  --sklearn-color-fitted-level-0: #f0f8ff;\n",
       "  --sklearn-color-fitted-level-1: #d4ebff;\n",
       "  --sklearn-color-fitted-level-2: #b3dbfd;\n",
       "  --sklearn-color-fitted-level-3: cornflowerblue;\n",
       "\n",
       "  /* Specific color for light theme */\n",
       "  --sklearn-color-text-on-default-background: var(--sg-text-color, var(--theme-code-foreground, var(--jp-content-font-color1, black)));\n",
       "  --sklearn-color-background: var(--sg-background-color, var(--theme-background, var(--jp-layout-color0, white)));\n",
       "  --sklearn-color-border-box: var(--sg-text-color, var(--theme-code-foreground, var(--jp-content-font-color1, black)));\n",
       "  --sklearn-color-icon: #696969;\n",
       "\n",
       "  @media (prefers-color-scheme: dark) {\n",
       "    /* Redefinition of color scheme for dark theme */\n",
       "    --sklearn-color-text-on-default-background: var(--sg-text-color, var(--theme-code-foreground, var(--jp-content-font-color1, white)));\n",
       "    --sklearn-color-background: var(--sg-background-color, var(--theme-background, var(--jp-layout-color0, #111)));\n",
       "    --sklearn-color-border-box: var(--sg-text-color, var(--theme-code-foreground, var(--jp-content-font-color1, white)));\n",
       "    --sklearn-color-icon: #878787;\n",
       "  }\n",
       "}\n",
       "\n",
       "#sk-container-id-4 {\n",
       "  color: var(--sklearn-color-text);\n",
       "}\n",
       "\n",
       "#sk-container-id-4 pre {\n",
       "  padding: 0;\n",
       "}\n",
       "\n",
       "#sk-container-id-4 input.sk-hidden--visually {\n",
       "  border: 0;\n",
       "  clip: rect(1px 1px 1px 1px);\n",
       "  clip: rect(1px, 1px, 1px, 1px);\n",
       "  height: 1px;\n",
       "  margin: -1px;\n",
       "  overflow: hidden;\n",
       "  padding: 0;\n",
       "  position: absolute;\n",
       "  width: 1px;\n",
       "}\n",
       "\n",
       "#sk-container-id-4 div.sk-dashed-wrapped {\n",
       "  border: 1px dashed var(--sklearn-color-line);\n",
       "  margin: 0 0.4em 0.5em 0.4em;\n",
       "  box-sizing: border-box;\n",
       "  padding-bottom: 0.4em;\n",
       "  background-color: var(--sklearn-color-background);\n",
       "}\n",
       "\n",
       "#sk-container-id-4 div.sk-container {\n",
       "  /* jupyter's `normalize.less` sets `[hidden] { display: none; }`\n",
       "     but bootstrap.min.css set `[hidden] { display: none !important; }`\n",
       "     so we also need the `!important` here to be able to override the\n",
       "     default hidden behavior on the sphinx rendered scikit-learn.org.\n",
       "     See: https://github.com/scikit-learn/scikit-learn/issues/21755 */\n",
       "  display: inline-block !important;\n",
       "  position: relative;\n",
       "}\n",
       "\n",
       "#sk-container-id-4 div.sk-text-repr-fallback {\n",
       "  display: none;\n",
       "}\n",
       "\n",
       "div.sk-parallel-item,\n",
       "div.sk-serial,\n",
       "div.sk-item {\n",
       "  /* draw centered vertical line to link estimators */\n",
       "  background-image: linear-gradient(var(--sklearn-color-text-on-default-background), var(--sklearn-color-text-on-default-background));\n",
       "  background-size: 2px 100%;\n",
       "  background-repeat: no-repeat;\n",
       "  background-position: center center;\n",
       "}\n",
       "\n",
       "/* Parallel-specific style estimator block */\n",
       "\n",
       "#sk-container-id-4 div.sk-parallel-item::after {\n",
       "  content: \"\";\n",
       "  width: 100%;\n",
       "  border-bottom: 2px solid var(--sklearn-color-text-on-default-background);\n",
       "  flex-grow: 1;\n",
       "}\n",
       "\n",
       "#sk-container-id-4 div.sk-parallel {\n",
       "  display: flex;\n",
       "  align-items: stretch;\n",
       "  justify-content: center;\n",
       "  background-color: var(--sklearn-color-background);\n",
       "  position: relative;\n",
       "}\n",
       "\n",
       "#sk-container-id-4 div.sk-parallel-item {\n",
       "  display: flex;\n",
       "  flex-direction: column;\n",
       "}\n",
       "\n",
       "#sk-container-id-4 div.sk-parallel-item:first-child::after {\n",
       "  align-self: flex-end;\n",
       "  width: 50%;\n",
       "}\n",
       "\n",
       "#sk-container-id-4 div.sk-parallel-item:last-child::after {\n",
       "  align-self: flex-start;\n",
       "  width: 50%;\n",
       "}\n",
       "\n",
       "#sk-container-id-4 div.sk-parallel-item:only-child::after {\n",
       "  width: 0;\n",
       "}\n",
       "\n",
       "/* Serial-specific style estimator block */\n",
       "\n",
       "#sk-container-id-4 div.sk-serial {\n",
       "  display: flex;\n",
       "  flex-direction: column;\n",
       "  align-items: center;\n",
       "  background-color: var(--sklearn-color-background);\n",
       "  padding-right: 1em;\n",
       "  padding-left: 1em;\n",
       "}\n",
       "\n",
       "\n",
       "/* Toggleable style: style used for estimator/Pipeline/ColumnTransformer box that is\n",
       "clickable and can be expanded/collapsed.\n",
       "- Pipeline and ColumnTransformer use this feature and define the default style\n",
       "- Estimators will overwrite some part of the style using the `sk-estimator` class\n",
       "*/\n",
       "\n",
       "/* Pipeline and ColumnTransformer style (default) */\n",
       "\n",
       "#sk-container-id-4 div.sk-toggleable {\n",
       "  /* Default theme specific background. It is overwritten whether we have a\n",
       "  specific estimator or a Pipeline/ColumnTransformer */\n",
       "  background-color: var(--sklearn-color-background);\n",
       "}\n",
       "\n",
       "/* Toggleable label */\n",
       "#sk-container-id-4 label.sk-toggleable__label {\n",
       "  cursor: pointer;\n",
       "  display: block;\n",
       "  width: 100%;\n",
       "  margin-bottom: 0;\n",
       "  padding: 0.5em;\n",
       "  box-sizing: border-box;\n",
       "  text-align: center;\n",
       "}\n",
       "\n",
       "#sk-container-id-4 label.sk-toggleable__label-arrow:before {\n",
       "  /* Arrow on the left of the label */\n",
       "  content: \"▸\";\n",
       "  float: left;\n",
       "  margin-right: 0.25em;\n",
       "  color: var(--sklearn-color-icon);\n",
       "}\n",
       "\n",
       "#sk-container-id-4 label.sk-toggleable__label-arrow:hover:before {\n",
       "  color: var(--sklearn-color-text);\n",
       "}\n",
       "\n",
       "/* Toggleable content - dropdown */\n",
       "\n",
       "#sk-container-id-4 div.sk-toggleable__content {\n",
       "  max-height: 0;\n",
       "  max-width: 0;\n",
       "  overflow: hidden;\n",
       "  text-align: left;\n",
       "  /* unfitted */\n",
       "  background-color: var(--sklearn-color-unfitted-level-0);\n",
       "}\n",
       "\n",
       "#sk-container-id-4 div.sk-toggleable__content.fitted {\n",
       "  /* fitted */\n",
       "  background-color: var(--sklearn-color-fitted-level-0);\n",
       "}\n",
       "\n",
       "#sk-container-id-4 div.sk-toggleable__content pre {\n",
       "  margin: 0.2em;\n",
       "  border-radius: 0.25em;\n",
       "  color: var(--sklearn-color-text);\n",
       "  /* unfitted */\n",
       "  background-color: var(--sklearn-color-unfitted-level-0);\n",
       "}\n",
       "\n",
       "#sk-container-id-4 div.sk-toggleable__content.fitted pre {\n",
       "  /* unfitted */\n",
       "  background-color: var(--sklearn-color-fitted-level-0);\n",
       "}\n",
       "\n",
       "#sk-container-id-4 input.sk-toggleable__control:checked~div.sk-toggleable__content {\n",
       "  /* Expand drop-down */\n",
       "  max-height: 200px;\n",
       "  max-width: 100%;\n",
       "  overflow: auto;\n",
       "}\n",
       "\n",
       "#sk-container-id-4 input.sk-toggleable__control:checked~label.sk-toggleable__label-arrow:before {\n",
       "  content: \"▾\";\n",
       "}\n",
       "\n",
       "/* Pipeline/ColumnTransformer-specific style */\n",
       "\n",
       "#sk-container-id-4 div.sk-label input.sk-toggleable__control:checked~label.sk-toggleable__label {\n",
       "  color: var(--sklearn-color-text);\n",
       "  background-color: var(--sklearn-color-unfitted-level-2);\n",
       "}\n",
       "\n",
       "#sk-container-id-4 div.sk-label.fitted input.sk-toggleable__control:checked~label.sk-toggleable__label {\n",
       "  background-color: var(--sklearn-color-fitted-level-2);\n",
       "}\n",
       "\n",
       "/* Estimator-specific style */\n",
       "\n",
       "/* Colorize estimator box */\n",
       "#sk-container-id-4 div.sk-estimator input.sk-toggleable__control:checked~label.sk-toggleable__label {\n",
       "  /* unfitted */\n",
       "  background-color: var(--sklearn-color-unfitted-level-2);\n",
       "}\n",
       "\n",
       "#sk-container-id-4 div.sk-estimator.fitted input.sk-toggleable__control:checked~label.sk-toggleable__label {\n",
       "  /* fitted */\n",
       "  background-color: var(--sklearn-color-fitted-level-2);\n",
       "}\n",
       "\n",
       "#sk-container-id-4 div.sk-label label.sk-toggleable__label,\n",
       "#sk-container-id-4 div.sk-label label {\n",
       "  /* The background is the default theme color */\n",
       "  color: var(--sklearn-color-text-on-default-background);\n",
       "}\n",
       "\n",
       "/* On hover, darken the color of the background */\n",
       "#sk-container-id-4 div.sk-label:hover label.sk-toggleable__label {\n",
       "  color: var(--sklearn-color-text);\n",
       "  background-color: var(--sklearn-color-unfitted-level-2);\n",
       "}\n",
       "\n",
       "/* Label box, darken color on hover, fitted */\n",
       "#sk-container-id-4 div.sk-label.fitted:hover label.sk-toggleable__label.fitted {\n",
       "  color: var(--sklearn-color-text);\n",
       "  background-color: var(--sklearn-color-fitted-level-2);\n",
       "}\n",
       "\n",
       "/* Estimator label */\n",
       "\n",
       "#sk-container-id-4 div.sk-label label {\n",
       "  font-family: monospace;\n",
       "  font-weight: bold;\n",
       "  display: inline-block;\n",
       "  line-height: 1.2em;\n",
       "}\n",
       "\n",
       "#sk-container-id-4 div.sk-label-container {\n",
       "  text-align: center;\n",
       "}\n",
       "\n",
       "/* Estimator-specific */\n",
       "#sk-container-id-4 div.sk-estimator {\n",
       "  font-family: monospace;\n",
       "  border: 1px dotted var(--sklearn-color-border-box);\n",
       "  border-radius: 0.25em;\n",
       "  box-sizing: border-box;\n",
       "  margin-bottom: 0.5em;\n",
       "  /* unfitted */\n",
       "  background-color: var(--sklearn-color-unfitted-level-0);\n",
       "}\n",
       "\n",
       "#sk-container-id-4 div.sk-estimator.fitted {\n",
       "  /* fitted */\n",
       "  background-color: var(--sklearn-color-fitted-level-0);\n",
       "}\n",
       "\n",
       "/* on hover */\n",
       "#sk-container-id-4 div.sk-estimator:hover {\n",
       "  /* unfitted */\n",
       "  background-color: var(--sklearn-color-unfitted-level-2);\n",
       "}\n",
       "\n",
       "#sk-container-id-4 div.sk-estimator.fitted:hover {\n",
       "  /* fitted */\n",
       "  background-color: var(--sklearn-color-fitted-level-2);\n",
       "}\n",
       "\n",
       "/* Specification for estimator info (e.g. \"i\" and \"?\") */\n",
       "\n",
       "/* Common style for \"i\" and \"?\" */\n",
       "\n",
       ".sk-estimator-doc-link,\n",
       "a:link.sk-estimator-doc-link,\n",
       "a:visited.sk-estimator-doc-link {\n",
       "  float: right;\n",
       "  font-size: smaller;\n",
       "  line-height: 1em;\n",
       "  font-family: monospace;\n",
       "  background-color: var(--sklearn-color-background);\n",
       "  border-radius: 1em;\n",
       "  height: 1em;\n",
       "  width: 1em;\n",
       "  text-decoration: none !important;\n",
       "  margin-left: 1ex;\n",
       "  /* unfitted */\n",
       "  border: var(--sklearn-color-unfitted-level-1) 1pt solid;\n",
       "  color: var(--sklearn-color-unfitted-level-1);\n",
       "}\n",
       "\n",
       ".sk-estimator-doc-link.fitted,\n",
       "a:link.sk-estimator-doc-link.fitted,\n",
       "a:visited.sk-estimator-doc-link.fitted {\n",
       "  /* fitted */\n",
       "  border: var(--sklearn-color-fitted-level-1) 1pt solid;\n",
       "  color: var(--sklearn-color-fitted-level-1);\n",
       "}\n",
       "\n",
       "/* On hover */\n",
       "div.sk-estimator:hover .sk-estimator-doc-link:hover,\n",
       ".sk-estimator-doc-link:hover,\n",
       "div.sk-label-container:hover .sk-estimator-doc-link:hover,\n",
       ".sk-estimator-doc-link:hover {\n",
       "  /* unfitted */\n",
       "  background-color: var(--sklearn-color-unfitted-level-3);\n",
       "  color: var(--sklearn-color-background);\n",
       "  text-decoration: none;\n",
       "}\n",
       "\n",
       "div.sk-estimator.fitted:hover .sk-estimator-doc-link.fitted:hover,\n",
       ".sk-estimator-doc-link.fitted:hover,\n",
       "div.sk-label-container:hover .sk-estimator-doc-link.fitted:hover,\n",
       ".sk-estimator-doc-link.fitted:hover {\n",
       "  /* fitted */\n",
       "  background-color: var(--sklearn-color-fitted-level-3);\n",
       "  color: var(--sklearn-color-background);\n",
       "  text-decoration: none;\n",
       "}\n",
       "\n",
       "/* Span, style for the box shown on hovering the info icon */\n",
       ".sk-estimator-doc-link span {\n",
       "  display: none;\n",
       "  z-index: 9999;\n",
       "  position: relative;\n",
       "  font-weight: normal;\n",
       "  right: .2ex;\n",
       "  padding: .5ex;\n",
       "  margin: .5ex;\n",
       "  width: min-content;\n",
       "  min-width: 20ex;\n",
       "  max-width: 50ex;\n",
       "  color: var(--sklearn-color-text);\n",
       "  box-shadow: 2pt 2pt 4pt #999;\n",
       "  /* unfitted */\n",
       "  background: var(--sklearn-color-unfitted-level-0);\n",
       "  border: .5pt solid var(--sklearn-color-unfitted-level-3);\n",
       "}\n",
       "\n",
       ".sk-estimator-doc-link.fitted span {\n",
       "  /* fitted */\n",
       "  background: var(--sklearn-color-fitted-level-0);\n",
       "  border: var(--sklearn-color-fitted-level-3);\n",
       "}\n",
       "\n",
       ".sk-estimator-doc-link:hover span {\n",
       "  display: block;\n",
       "}\n",
       "\n",
       "/* \"?\"-specific style due to the `<a>` HTML tag */\n",
       "\n",
       "#sk-container-id-4 a.estimator_doc_link {\n",
       "  float: right;\n",
       "  font-size: 1rem;\n",
       "  line-height: 1em;\n",
       "  font-family: monospace;\n",
       "  background-color: var(--sklearn-color-background);\n",
       "  border-radius: 1rem;\n",
       "  height: 1rem;\n",
       "  width: 1rem;\n",
       "  text-decoration: none;\n",
       "  /* unfitted */\n",
       "  color: var(--sklearn-color-unfitted-level-1);\n",
       "  border: var(--sklearn-color-unfitted-level-1) 1pt solid;\n",
       "}\n",
       "\n",
       "#sk-container-id-4 a.estimator_doc_link.fitted {\n",
       "  /* fitted */\n",
       "  border: var(--sklearn-color-fitted-level-1) 1pt solid;\n",
       "  color: var(--sklearn-color-fitted-level-1);\n",
       "}\n",
       "\n",
       "/* On hover */\n",
       "#sk-container-id-4 a.estimator_doc_link:hover {\n",
       "  /* unfitted */\n",
       "  background-color: var(--sklearn-color-unfitted-level-3);\n",
       "  color: var(--sklearn-color-background);\n",
       "  text-decoration: none;\n",
       "}\n",
       "\n",
       "#sk-container-id-4 a.estimator_doc_link.fitted:hover {\n",
       "  /* fitted */\n",
       "  background-color: var(--sklearn-color-fitted-level-3);\n",
       "}\n",
       "</style><div id=\"sk-container-id-4\" class=\"sk-top-container\"><div class=\"sk-text-repr-fallback\"><pre>TfidfVectorizer(max_df=0.7, max_features=156219, min_df=0.24)</pre><b>In a Jupyter environment, please rerun this cell to show the HTML representation or trust the notebook. <br />On GitHub, the HTML representation is unable to render, please try loading this page with nbviewer.org.</b></div><div class=\"sk-container\" hidden><div class=\"sk-item\"><div class=\"sk-estimator fitted sk-toggleable\"><input class=\"sk-toggleable__control sk-hidden--visually\" id=\"sk-estimator-id-4\" type=\"checkbox\" checked><label for=\"sk-estimator-id-4\" class=\"sk-toggleable__label fitted sk-toggleable__label-arrow fitted\">&nbsp;&nbsp;TfidfVectorizer<a class=\"sk-estimator-doc-link fitted\" rel=\"noreferrer\" target=\"_blank\" href=\"https://scikit-learn.org/1.4/modules/generated/sklearn.feature_extraction.text.TfidfVectorizer.html\">?<span>Documentation for TfidfVectorizer</span></a><span class=\"sk-estimator-doc-link fitted\">i<span>Fitted</span></span></label><div class=\"sk-toggleable__content fitted\"><pre>TfidfVectorizer(max_df=0.7, max_features=156219, min_df=0.24)</pre></div> </div></div></div></div>"
      ],
      "text/plain": [
       "TfidfVectorizer(max_df=0.7, max_features=156219, min_df=0.24)"
      ]
     },
     "execution_count": 136,
     "metadata": {},
     "output_type": "execute_result"
    }
   ],
   "source": [
    "tfid = TfidfVectorizer(max_features = 156219, min_df=0.24,max_df=0.7)\n",
    "tfid.fit(df_trec_06_07_combined['cleaned_text'])"
   ]
  },
  {
   "cell_type": "code",
   "execution_count": 142,
   "id": "08f6b491-3e58-4f3e-9553-461cdbd7445e",
   "metadata": {
    "tags": []
   },
   "outputs": [
    {
     "data": {
      "text/plain": [
       "(array([[0.        , 0.        , 0.        , ..., 0.        , 0.        ,\n",
       "         0.        ],\n",
       "        [0.37631205, 0.        , 0.        , ..., 0.        , 0.        ,\n",
       "         0.        ],\n",
       "        [0.62630158, 0.        , 0.        , ..., 0.        , 0.        ,\n",
       "         0.63349633],\n",
       "        ...,\n",
       "        [0.        , 0.        , 0.        , ..., 0.3716436 , 0.        ,\n",
       "         0.1189306 ],\n",
       "        [0.        , 0.        , 0.        , ..., 0.        , 0.        ,\n",
       "         0.        ],\n",
       "        [0.        , 0.        , 0.        , ..., 0.        , 0.        ,\n",
       "         0.        ]]),\n",
       " array([1, 0, 1, ..., 1, 0, 0]))"
      ]
     },
     "execution_count": 142,
     "metadata": {},
     "output_type": "execute_result"
    }
   ],
   "source": [
    "# set x and y\n",
    "X_trec_combined = tfid.transform(df_trec_06_07_combined['cleaned_text']).toarray()\n",
    "y_trec_combined = df_trec_06_07_combined['label'].values\n",
    "X_trec_combined,y_trec_combined"
   ]
  },
  {
   "cell_type": "markdown",
   "id": "e3064200-8349-4bb9-b87f-0e542c6afd9b",
   "metadata": {},
   "source": [
    "### Training the Baseline Model(NB, RF)"
   ]
  },
  {
   "cell_type": "code",
   "execution_count": 143,
   "id": "cf6d94f1-659f-4c85-99f3-1fb88f1568ed",
   "metadata": {
    "tags": []
   },
   "outputs": [
    {
     "data": {
      "text/plain": [
       "array([[0.        , 0.        , 0.        , ..., 0.        , 0.        ,\n",
       "        0.        ],\n",
       "       [0.37631205, 0.        , 0.        , ..., 0.        , 0.        ,\n",
       "        0.        ],\n",
       "       [0.62630158, 0.        , 0.        , ..., 0.        , 0.        ,\n",
       "        0.63349633],\n",
       "       ...,\n",
       "       [0.        , 0.        , 0.        , ..., 0.3716436 , 0.        ,\n",
       "        0.1189306 ],\n",
       "       [0.        , 0.        , 0.        , ..., 0.        , 0.        ,\n",
       "        0.        ],\n",
       "       [0.        , 0.        , 0.        , ..., 0.        , 0.        ,\n",
       "        0.        ]])"
      ]
     },
     "execution_count": 143,
     "metadata": {},
     "output_type": "execute_result"
    }
   ],
   "source": [
    "# SPliting data\n",
    "X_train_trec_combined, X_test_trec_combined, y_train_trec_combined, y_test_trec_combined = train_test_split(X_trec_combined,y_trec_combined,test_size = 0.2, random_state = 42)\n",
    "X_trec_combined"
   ]
  },
  {
   "cell_type": "code",
   "execution_count": 165,
   "id": "d7a11a24-3185-44da-ad86-4f3c16a1cf31",
   "metadata": {
    "tags": []
   },
   "outputs": [],
   "source": [
    "knc_v3 = KNeighborsClassifier()\n",
    "mnb_v3 = MultinomialNB(alpha=0.01)\n",
    "dtc_v3 = DecisionTreeClassifier(max_depth = 5)\n",
    "lrc_v3 = LogisticRegression(solver = 'liblinear', penalty = 'l1')\n",
    "rfc_v3 = RandomForestClassifier(n_estimators = 50, random_state = 42 )    \n",
    "xgb_v3  = XGBClassifier(n_estimators = 50, random_state = 42)\n",
    "clfs_v3 = {\n",
    "    'KNN': knc_v3,\n",
    "    'NB' : mnb_v3,\n",
    "    'DT': dtc_v3,\n",
    "    'LR': lrc_v3,\n",
    "    'RF': rfc_v3,\n",
    "    'xgb': xgb_v3\n",
    "    }    \n"
   ]
  },
  {
   "cell_type": "code",
   "execution_count": 166,
   "id": "f50ca719-90a1-4ab7-8f58-766021c604c6",
   "metadata": {
    "tags": []
   },
   "outputs": [
    {
     "name": "stdout",
     "output_type": "stream",
     "text": [
      "\n",
      "For:  KNN\n",
      "Accuracy:  0.8148069878839109\n",
      "Precision:  0.7782388795227597\n",
      "Training Time (seconds): 0.9073431491851807\n",
      "\n",
      "For:  NB\n",
      "Accuracy:  0.672654268808115\n",
      "Precision:  0.6788918621123878\n",
      "Training Time (seconds): 0.017560243606567383\n",
      "\n",
      "For:  DT\n",
      "Accuracy:  0.775993237531699\n",
      "Precision:  0.7416020671834626\n",
      "Training Time (seconds): 0.08196616172790527\n",
      "\n",
      "For:  LR\n",
      "Accuracy:  0.7565511411665258\n",
      "Precision:  0.7336120852441327\n",
      "Training Time (seconds): 0.056524038314819336\n",
      "\n",
      "For:  RF\n",
      "Accuracy:  0.8300929839391378\n",
      "Precision:  0.7975184794086589\n",
      "Training Time (seconds): 1.604612112045288\n",
      "\n",
      "For:  xgb\n",
      "Accuracy:  0.8267117497886729\n",
      "Precision:  0.794661733615222\n",
      "Training Time (seconds): 0.08616900444030762\n"
     ]
    }
   ],
   "source": [
    "accuracy_scores = []\n",
    "precision_scores = []\n",
    "training_times = []\n",
    "\n",
    "for name , clfs in clfs_v3.items():\n",
    "    current_accuracy, current_precision, elapsed_time = train_classifier(clfs, X_train_trec_combined, y_train_trec_combined, X_test_trec_combined, y_test_trec_combined)\n",
    "    print()\n",
    "    print(\"For: \", name)\n",
    "    print(\"Accuracy: \", current_accuracy)\n",
    "    print(\"Precision: \", current_precision)\n",
    "    print(\"Training Time (seconds):\", elapsed_time)\n",
    "    \n",
    "    accuracy_scores.append(current_accuracy)\n",
    "    precision_scores.append(current_precision)\n",
    "    training_times.append(elapsed_time)"
   ]
  },
  {
   "cell_type": "code",
   "execution_count": 167,
   "id": "523c6e07-6868-4aec-9d2a-f9a83f293ff8",
   "metadata": {
    "tags": []
   },
   "outputs": [
    {
     "data": {
      "text/html": [
       "<div>\n",
       "<style scoped>\n",
       "    .dataframe tbody tr th:only-of-type {\n",
       "        vertical-align: middle;\n",
       "    }\n",
       "\n",
       "    .dataframe tbody tr th {\n",
       "        vertical-align: top;\n",
       "    }\n",
       "\n",
       "    .dataframe thead th {\n",
       "        text-align: right;\n",
       "    }\n",
       "</style>\n",
       "<table border=\"1\" class=\"dataframe\">\n",
       "  <thead>\n",
       "    <tr style=\"text-align: right;\">\n",
       "      <th></th>\n",
       "      <th>label</th>\n",
       "      <th>text</th>\n",
       "      <th>transformed_text</th>\n",
       "    </tr>\n",
       "  </thead>\n",
       "  <tbody>\n",
       "    <tr>\n",
       "      <th>0</th>\n",
       "      <td>0</td>\n",
       "      <td>hello in the license header of a source file b...</td>\n",
       "      <td>hello licens header sourc file licens gpl must...</td>\n",
       "    </tr>\n",
       "    <tr>\n",
       "      <th>1</th>\n",
       "      <td>1</td>\n",
       "      <td>and pensive by turns lost his appetite neglect...</td>\n",
       "      <td>pensiv turn lost appetit neglect dress devot m...</td>\n",
       "    </tr>\n",
       "    <tr>\n",
       "      <th>2</th>\n",
       "      <td>1</td>\n",
       "      <td>symbol alert http sescapenumber bilder hosting...</td>\n",
       "      <td>symbol alert http sescapenumb bilder host de i...</td>\n",
       "    </tr>\n",
       "    <tr>\n",
       "      <th>3</th>\n",
       "      <td>0</td>\n",
       "      <td>the internet patrol internet safety windows up...</td>\n",
       "      <td>internet patrol internet safeti window updat i...</td>\n",
       "    </tr>\n",
       "    <tr>\n",
       "      <th>4</th>\n",
       "      <td>0</td>\n",
       "      <td>escapenumberfxml version escapenumberd escape...</td>\n",
       "      <td>escapenumberfxml version escapenumberd escapen...</td>\n",
       "    </tr>\n",
       "    <tr>\n",
       "      <th>...</th>\n",
       "      <td>...</td>\n",
       "      <td>...</td>\n",
       "      <td>...</td>\n",
       "    </tr>\n",
       "    <tr>\n",
       "      <th>5122</th>\n",
       "      <td>1</td>\n",
       "      <td>summer bees were sayingthat this mud draws on ...</td>\n",
       "      <td>summer bee sayingthat mud draw stone hand free...</td>\n",
       "    </tr>\n",
       "    <tr>\n",
       "      <th>5123</th>\n",
       "      <td>1</td>\n",
       "      <td>gentile cliente di banca rasbank il servizio t...</td>\n",
       "      <td>gentil client di banca rasbank il servizio tec...</td>\n",
       "    </tr>\n",
       "    <tr>\n",
       "      <th>5124</th>\n",
       "      <td>0</td>\n",
       "      <td>on mon escapenumber escapenumber escapenumber ...</td>\n",
       "      <td>mon escapenumb escapenumb escapenumb escapenum...</td>\n",
       "    </tr>\n",
       "    <tr>\n",
       "      <th>5125</th>\n",
       "      <td>1</td>\n",
       "      <td>trading escapelong for you special situation a...</td>\n",
       "      <td>trade escapelong special situat alert tmxo tri...</td>\n",
       "    </tr>\n",
       "    <tr>\n",
       "      <th>5126</th>\n",
       "      <td>1</td>\n",
       "      <td>as a business you have been preapproved to rec...</td>\n",
       "      <td>busi preapprov receiv escapenumb usd today has...</td>\n",
       "    </tr>\n",
       "  </tbody>\n",
       "</table>\n",
       "<p>5127 rows × 3 columns</p>\n",
       "</div>"
      ],
      "text/plain": [
       "      label                                               text  \\\n",
       "0         0  hello in the license header of a source file b...   \n",
       "1         1  and pensive by turns lost his appetite neglect...   \n",
       "2         1  symbol alert http sescapenumber bilder hosting...   \n",
       "3         0  the internet patrol internet safety windows up...   \n",
       "4         0   escapenumberfxml version escapenumberd escape...   \n",
       "...     ...                                                ...   \n",
       "5122      1  summer bees were sayingthat this mud draws on ...   \n",
       "5123      1  gentile cliente di banca rasbank il servizio t...   \n",
       "5124      0  on mon escapenumber escapenumber escapenumber ...   \n",
       "5125      1  trading escapelong for you special situation a...   \n",
       "5126      1  as a business you have been preapproved to rec...   \n",
       "\n",
       "                                       transformed_text  \n",
       "0     hello licens header sourc file licens gpl must...  \n",
       "1     pensiv turn lost appetit neglect dress devot m...  \n",
       "2     symbol alert http sescapenumb bilder host de i...  \n",
       "3     internet patrol internet safeti window updat i...  \n",
       "4     escapenumberfxml version escapenumberd escapen...  \n",
       "...                                                 ...  \n",
       "5122  summer bee sayingthat mud draw stone hand free...  \n",
       "5123  gentil client di banca rasbank il servizio tec...  \n",
       "5124  mon escapenumb escapenumb escapenumb escapenum...  \n",
       "5125  trade escapelong special situat alert tmxo tri...  \n",
       "5126  busi preapprov receiv escapenumb usd today has...  \n",
       "\n",
       "[5127 rows x 3 columns]"
      ]
     },
     "execution_count": 167,
     "metadata": {},
     "output_type": "execute_result"
    }
   ],
   "source": [
    "df_test"
   ]
  },
  {
   "cell_type": "code",
   "execution_count": 168,
   "id": "ef43465f-9387-4eb2-a472-d0ca4f618638",
   "metadata": {
    "tags": []
   },
   "outputs": [],
   "source": [
    "X_test = tfid.transform(df_test['transformed_text'])"
   ]
  },
  {
   "cell_type": "code",
   "execution_count": 169,
   "id": "5617ea34-45ba-442b-bf3d-f136660fe768",
   "metadata": {
    "tags": []
   },
   "outputs": [
    {
     "name": "stdout",
     "output_type": "stream",
     "text": [
      "NB:0.6666666666666666\n"
     ]
    }
   ],
   "source": [
    "# NB\n",
    "y_pred_test = mnb_v3.predict(X_test)\n",
    "print(f\"NB:{accuracy_score(y_test, y_pred_test)}\")\n",
    "clfs_v3 = {\n",
    "    'KNN': knc_v3,\n",
    "    'NB' : mnb_v3,\n",
    "    'DT': dtc_v3,\n",
    "    'LR': lrc_v3,\n",
    "    'RF': rfc_v3,\n",
    "    'xgb': xgb_v3\n",
    "    }    "
   ]
  },
  {
   "cell_type": "code",
   "execution_count": 174,
   "id": "9b72701b-2588-44f9-adfc-65c800395579",
   "metadata": {
    "tags": []
   },
   "outputs": [
    {
     "name": "stdout",
     "output_type": "stream",
     "text": [
      "DT:0.8010532475131656\n"
     ]
    }
   ],
   "source": [
    "# DT\n",
    "y_pred_test = dtc_v3.predict(X_test)\n",
    "print(f\"DT:{accuracy_score(y_test, y_pred_test)}\")"
   ]
  },
  {
   "cell_type": "code",
   "execution_count": 175,
   "id": "33e512c6-5be4-4dfd-848a-cf53f1a0bf54",
   "metadata": {
    "tags": []
   },
   "outputs": [
    {
     "name": "stdout",
     "output_type": "stream",
     "text": [
      "LR:0.7612638970157987\n"
     ]
    }
   ],
   "source": [
    "# LR\n",
    "y_pred_test = lrc_v3.predict(X_test)\n",
    "print(f\"LR:{accuracy_score(y_test, y_pred_test)}\")"
   ]
  },
  {
   "cell_type": "code",
   "execution_count": 176,
   "id": "b24772be-9a73-4ed6-b357-96b0e3c561da",
   "metadata": {
    "tags": []
   },
   "outputs": [
    {
     "name": "stdout",
     "output_type": "stream",
     "text": [
      "XGB:0.6422859371952409\n"
     ]
    }
   ],
   "source": [
    "# XGB\n",
    "y_pred_test = xgb_v3.predict(X_test)\n",
    "print(f\"XGB:{accuracy_score(y_test, y_pred_test)}\")"
   ]
  },
  {
   "cell_type": "code",
   "execution_count": 170,
   "id": "8f46160c-3646-4022-8608-23346a0d0cbb",
   "metadata": {
    "tags": []
   },
   "outputs": [
    {
     "name": "stdout",
     "output_type": "stream",
     "text": [
      "RF:0.8732202067485859\n"
     ]
    }
   ],
   "source": [
    "# RF\n",
    "y_pred_test = rfc_v3.predict(X_test)\n",
    "print(f\"RF:{accuracy_score(y_test, y_pred_test)}\")"
   ]
  },
  {
   "cell_type": "markdown",
   "id": "07371c92-597b-45cc-a3f5-a6da1dfc8614",
   "metadata": {
    "tags": []
   },
   "source": [
    "### Hyperparameter Tuning:\n",
    "\n",
    "Because my dataset consists over 70,000 emails, on a large dataset like this, hyperparameter Tuning can be very computationally expensive, because of the nature of Random Forest, the default setting will be enough. This part will only dedicate on Naive Bayes."
   ]
  },
  {
   "cell_type": "code",
   "execution_count": 158,
   "id": "aeb118a8-007f-4c64-b0c3-e7999aab8776",
   "metadata": {
    "tags": []
   },
   "outputs": [
    {
     "name": "stdout",
     "output_type": "stream",
     "text": [
      "Fitting 5 folds for each of 5 candidates, totalling 25 fits\n",
      "Best parameters: {'alpha': 0.01}\n"
     ]
    }
   ],
   "source": [
    "from sklearn.model_selection import GridSearchCV\n",
    "\n",
    "# Set up the parameter grid\n",
    "param_grid_nb = {\n",
    "    'alpha': [0.01, 0.1, 1.0, 10.0, 50.0]\n",
    "}\n",
    "\n",
    "# Initialize the Naive Bayes classifier\n",
    "nb = MultinomialNB()\n",
    "\n",
    "# Set up the grid search with cross-validation\n",
    "grid_search_nb = GridSearchCV(estimator=nb, param_grid=param_grid_nb, cv=5, verbose=2, n_jobs=-1)\n",
    "grid_search_nb.fit(X_train_trec_combined, y_train_trec_combined) \n",
    "\n",
    "# Best parameters found\n",
    "print(\"Best parameters:\", grid_search_nb.best_params_)"
   ]
  },
  {
   "cell_type": "markdown",
   "id": "309f2099-bba3-450d-a587-8349b723cddb",
   "metadata": {},
   "source": [
    "Now our model is performing much better on the unseen data with additional feature extraction settings in TF-IDF process. We want further feature engineering to optimize the model's performance."
   ]
  },
  {
   "cell_type": "markdown",
   "id": "457f30dc-2773-448c-92b4-068882bb3497",
   "metadata": {
    "tags": []
   },
   "source": [
    "### Feature Engineering:\n",
    "\n",
    "Count of Special Characters: Spam emails often contain an unusually high number of special characters, such as exclamation marks or dollar signs."
   ]
  },
  {
   "cell_type": "code",
   "execution_count": 180,
   "id": "803d4622-fbe5-43a2-835f-1c4e14a7f08e",
   "metadata": {
    "tags": []
   },
   "outputs": [
    {
     "data": {
      "text/plain": [
       "0        do you feel the pressure to perform and not ri...\n",
       "1        hi i've just updated from the gulus and i chec...\n",
       "2        mega authenticv i a g r a discount pricec i a ...\n",
       "3        hey billy it was really fun going out the othe...\n",
       "4        system of the home it will have the capabiliti...\n",
       "                               ...                        \n",
       "70972    ch in a gold cor p symbol c gd c current price...\n",
       "70973     begin pgp signed message hash shaescapenumber...\n",
       "70974    lucky draw global lotto promotions head office...\n",
       "70975    i am running a script which plays a series of ...\n",
       "70976    yeah a number of people over the years have ha...\n",
       "Name: text, Length: 70977, dtype: object"
      ]
     },
     "execution_count": 180,
     "metadata": {},
     "output_type": "execute_result"
    }
   ],
   "source": [
    "df_trec_combined_text = pd.concat([df_trec_2007['text'], df_trec_06['text']], ignore_index=True)\n",
    "df_trec_combined_text"
   ]
  },
  {
   "cell_type": "code",
   "execution_count": 183,
   "id": "a20f5a50-0aec-4c50-ae1c-59cea2a6dba4",
   "metadata": {
    "tags": []
   },
   "outputs": [
    {
     "data": {
      "text/html": [
       "<div>\n",
       "<style scoped>\n",
       "    .dataframe tbody tr th:only-of-type {\n",
       "        vertical-align: middle;\n",
       "    }\n",
       "\n",
       "    .dataframe tbody tr th {\n",
       "        vertical-align: top;\n",
       "    }\n",
       "\n",
       "    .dataframe thead th {\n",
       "        text-align: right;\n",
       "    }\n",
       "</style>\n",
       "<table border=\"1\" class=\"dataframe\">\n",
       "  <thead>\n",
       "    <tr style=\"text-align: right;\">\n",
       "      <th></th>\n",
       "      <th>cleaned_text</th>\n",
       "      <th>label</th>\n",
       "      <th>special_chars</th>\n",
       "    </tr>\n",
       "  </thead>\n",
       "  <tbody>\n",
       "    <tr>\n",
       "      <th>0</th>\n",
       "      <td>feel pressur perform rise occas tri v ia gr an...</td>\n",
       "      <td>1</td>\n",
       "      <td>0</td>\n",
       "    </tr>\n",
       "    <tr>\n",
       "      <th>1</th>\n",
       "      <td>hi updat gulu check mirror seem littl typo deb...</td>\n",
       "      <td>0</td>\n",
       "      <td>1</td>\n",
       "    </tr>\n",
       "    <tr>\n",
       "      <th>2</th>\n",
       "      <td>mega authenticv g r discount pricec l discount...</td>\n",
       "      <td>1</td>\n",
       "      <td>0</td>\n",
       "    </tr>\n",
       "    <tr>\n",
       "      <th>3</th>\n",
       "      <td>hey billi realli fun go night talk said felt i...</td>\n",
       "      <td>1</td>\n",
       "      <td>1</td>\n",
       "    </tr>\n",
       "    <tr>\n",
       "      <th>4</th>\n",
       "      <td>system home capabl link far know within part r...</td>\n",
       "      <td>1</td>\n",
       "      <td>6</td>\n",
       "    </tr>\n",
       "    <tr>\n",
       "      <th>...</th>\n",
       "      <td>...</td>\n",
       "      <td>...</td>\n",
       "      <td>...</td>\n",
       "    </tr>\n",
       "    <tr>\n",
       "      <th>70972</th>\n",
       "      <td>ch gold cor p symbol c gd c current price esca...</td>\n",
       "      <td>1</td>\n",
       "      <td>6</td>\n",
       "    </tr>\n",
       "    <tr>\n",
       "      <th>70973</th>\n",
       "      <td>begin pgp sign messag hash shaescapenumb vulne...</td>\n",
       "      <td>0</td>\n",
       "      <td>0</td>\n",
       "    </tr>\n",
       "    <tr>\n",
       "      <th>70974</th>\n",
       "      <td>lucki draw global lotto promot head offic esca...</td>\n",
       "      <td>1</td>\n",
       "      <td>0</td>\n",
       "    </tr>\n",
       "    <tr>\n",
       "      <th>70975</th>\n",
       "      <td>run script play seri short sound file file pla...</td>\n",
       "      <td>0</td>\n",
       "      <td>0</td>\n",
       "    </tr>\n",
       "    <tr>\n",
       "      <th>70976</th>\n",
       "      <td>yeah number peopl year similar problem want se...</td>\n",
       "      <td>0</td>\n",
       "      <td>2</td>\n",
       "    </tr>\n",
       "  </tbody>\n",
       "</table>\n",
       "<p>70977 rows × 3 columns</p>\n",
       "</div>"
      ],
      "text/plain": [
       "                                            cleaned_text  label  special_chars\n",
       "0      feel pressur perform rise occas tri v ia gr an...      1              0\n",
       "1      hi updat gulu check mirror seem littl typo deb...      0              1\n",
       "2      mega authenticv g r discount pricec l discount...      1              0\n",
       "3      hey billi realli fun go night talk said felt i...      1              1\n",
       "4      system home capabl link far know within part r...      1              6\n",
       "...                                                  ...    ...            ...\n",
       "70972  ch gold cor p symbol c gd c current price esca...      1              6\n",
       "70973  begin pgp sign messag hash shaescapenumb vulne...      0              0\n",
       "70974  lucki draw global lotto promot head offic esca...      1              0\n",
       "70975  run script play seri short sound file file pla...      0              0\n",
       "70976  yeah number peopl year similar problem want se...      0              2\n",
       "\n",
       "[70977 rows x 3 columns]"
      ]
     },
     "execution_count": 183,
     "metadata": {},
     "output_type": "execute_result"
    }
   ],
   "source": [
    "import numpy as np\n",
    "\n",
    "def count_special_chars(text):\n",
    "    \n",
    "    special_chars = set(\"!@#$%^&*()_+-=[]{}|;:',.<>?\")\n",
    "    return sum(1 for char in text if char in special_chars)\n",
    "\n",
    "# Apply this function to dataframe to create a new feature column\n",
    "df_trec_06_07_combined['special_chars'] = df_trec_combined_text.apply(count_special_chars)\n",
    "df_trec_06_07_combined"
   ]
  },
  {
   "cell_type": "markdown",
   "id": "12118bd7-2eab-47b9-8bc2-a6df7d690064",
   "metadata": {},
   "source": [
    "### Implementing on Random Forest"
   ]
  },
  {
   "cell_type": "code",
   "execution_count": 201,
   "id": "cf05c51b-621b-4a54-9821-f59b69a200fe",
   "metadata": {
    "tags": []
   },
   "outputs": [],
   "source": [
    "from sklearn.compose import ColumnTransformer\n",
    "from sklearn.feature_extraction.text import TfidfVectorizer\n",
    "from sklearn.preprocessing import StandardScaler\n",
    "from sklearn.pipeline import Pipeline\n",
    "from sklearn.model_selection import train_test_split\n",
    "\n",
    "\n",
    "# Setup preprocessing steps\n",
    "preprocessor = ColumnTransformer(\n",
    "    transformers=[\n",
    "        ('txt', tfid, 'cleaned_text'),\n",
    "        ('num', StandardScaler(), ['special_chars'])\n",
    "    ])\n",
    "\n",
    "# Apply preprocessing to create a transformed feature matrix\n",
    "X = preprocessor.fit_transform(df_trec_06_07_combined)\n",
    "y = df_trec_06_07_combined['label'].values\n",
    "\n",
    "# Splitting the data\n",
    "X_train_trec_combined, X_test_trec_combined, y_train_trec_combined, y_test_trec_combined = train_test_split(\n",
    "    X, y, test_size=0.2, random_state=42\n",
    ")\n"
   ]
  },
  {
   "cell_type": "code",
   "execution_count": 198,
   "id": "6b75c068-9ede-453f-a39d-a4ecf0a6ddc4",
   "metadata": {
    "tags": []
   },
   "outputs": [
    {
     "name": "stdout",
     "output_type": "stream",
     "text": [
      "Shape of X_train: (56781, 12)\n",
      "Shape of X_test: (14196, 12)\n"
     ]
    }
   ],
   "source": [
    "print(\"Shape of X_train:\", X_train_trec_combined.shape)\n",
    "print(\"Shape of X_test:\", X_test_trec_combined.shape)\n"
   ]
  },
  {
   "cell_type": "code",
   "execution_count": 199,
   "id": "013ac9cc-e64b-4656-b94a-19bb840d564f",
   "metadata": {
    "tags": []
   },
   "outputs": [
    {
     "name": "stdout",
     "output_type": "stream",
     "text": [
      "Accuracy: 0.8364327979712595\n"
     ]
    }
   ],
   "source": [
    "from sklearn.ensemble import RandomForestClassifier\n",
    "from sklearn.metrics import accuracy_score\n",
    "\n",
    "# Example model\n",
    "model = RandomForestClassifier(random_state=42)\n",
    "model.fit(X_train_trec_combined, y_train_trec_combined)\n",
    "\n",
    "# Prediction and evaluation\n",
    "y_pred = model.predict(X_test_trec_combined)\n",
    "print(\"Accuracy:\", accuracy_score(y_test_trec_combined, y_pred))\n"
   ]
  },
  {
   "cell_type": "code",
   "execution_count": 195,
   "id": "6f1637e6-5bf9-417a-a8e7-3a71b04126dc",
   "metadata": {
    "tags": []
   },
   "outputs": [
    {
     "data": {
      "text/html": [
       "<style>#sk-container-id-5 {\n",
       "  /* Definition of color scheme common for light and dark mode */\n",
       "  --sklearn-color-text: black;\n",
       "  --sklearn-color-line: gray;\n",
       "  /* Definition of color scheme for unfitted estimators */\n",
       "  --sklearn-color-unfitted-level-0: #fff5e6;\n",
       "  --sklearn-color-unfitted-level-1: #f6e4d2;\n",
       "  --sklearn-color-unfitted-level-2: #ffe0b3;\n",
       "  --sklearn-color-unfitted-level-3: chocolate;\n",
       "  /* Definition of color scheme for fitted estimators */\n",
       "  --sklearn-color-fitted-level-0: #f0f8ff;\n",
       "  --sklearn-color-fitted-level-1: #d4ebff;\n",
       "  --sklearn-color-fitted-level-2: #b3dbfd;\n",
       "  --sklearn-color-fitted-level-3: cornflowerblue;\n",
       "\n",
       "  /* Specific color for light theme */\n",
       "  --sklearn-color-text-on-default-background: var(--sg-text-color, var(--theme-code-foreground, var(--jp-content-font-color1, black)));\n",
       "  --sklearn-color-background: var(--sg-background-color, var(--theme-background, var(--jp-layout-color0, white)));\n",
       "  --sklearn-color-border-box: var(--sg-text-color, var(--theme-code-foreground, var(--jp-content-font-color1, black)));\n",
       "  --sklearn-color-icon: #696969;\n",
       "\n",
       "  @media (prefers-color-scheme: dark) {\n",
       "    /* Redefinition of color scheme for dark theme */\n",
       "    --sklearn-color-text-on-default-background: var(--sg-text-color, var(--theme-code-foreground, var(--jp-content-font-color1, white)));\n",
       "    --sklearn-color-background: var(--sg-background-color, var(--theme-background, var(--jp-layout-color0, #111)));\n",
       "    --sklearn-color-border-box: var(--sg-text-color, var(--theme-code-foreground, var(--jp-content-font-color1, white)));\n",
       "    --sklearn-color-icon: #878787;\n",
       "  }\n",
       "}\n",
       "\n",
       "#sk-container-id-5 {\n",
       "  color: var(--sklearn-color-text);\n",
       "}\n",
       "\n",
       "#sk-container-id-5 pre {\n",
       "  padding: 0;\n",
       "}\n",
       "\n",
       "#sk-container-id-5 input.sk-hidden--visually {\n",
       "  border: 0;\n",
       "  clip: rect(1px 1px 1px 1px);\n",
       "  clip: rect(1px, 1px, 1px, 1px);\n",
       "  height: 1px;\n",
       "  margin: -1px;\n",
       "  overflow: hidden;\n",
       "  padding: 0;\n",
       "  position: absolute;\n",
       "  width: 1px;\n",
       "}\n",
       "\n",
       "#sk-container-id-5 div.sk-dashed-wrapped {\n",
       "  border: 1px dashed var(--sklearn-color-line);\n",
       "  margin: 0 0.4em 0.5em 0.4em;\n",
       "  box-sizing: border-box;\n",
       "  padding-bottom: 0.4em;\n",
       "  background-color: var(--sklearn-color-background);\n",
       "}\n",
       "\n",
       "#sk-container-id-5 div.sk-container {\n",
       "  /* jupyter's `normalize.less` sets `[hidden] { display: none; }`\n",
       "     but bootstrap.min.css set `[hidden] { display: none !important; }`\n",
       "     so we also need the `!important` here to be able to override the\n",
       "     default hidden behavior on the sphinx rendered scikit-learn.org.\n",
       "     See: https://github.com/scikit-learn/scikit-learn/issues/21755 */\n",
       "  display: inline-block !important;\n",
       "  position: relative;\n",
       "}\n",
       "\n",
       "#sk-container-id-5 div.sk-text-repr-fallback {\n",
       "  display: none;\n",
       "}\n",
       "\n",
       "div.sk-parallel-item,\n",
       "div.sk-serial,\n",
       "div.sk-item {\n",
       "  /* draw centered vertical line to link estimators */\n",
       "  background-image: linear-gradient(var(--sklearn-color-text-on-default-background), var(--sklearn-color-text-on-default-background));\n",
       "  background-size: 2px 100%;\n",
       "  background-repeat: no-repeat;\n",
       "  background-position: center center;\n",
       "}\n",
       "\n",
       "/* Parallel-specific style estimator block */\n",
       "\n",
       "#sk-container-id-5 div.sk-parallel-item::after {\n",
       "  content: \"\";\n",
       "  width: 100%;\n",
       "  border-bottom: 2px solid var(--sklearn-color-text-on-default-background);\n",
       "  flex-grow: 1;\n",
       "}\n",
       "\n",
       "#sk-container-id-5 div.sk-parallel {\n",
       "  display: flex;\n",
       "  align-items: stretch;\n",
       "  justify-content: center;\n",
       "  background-color: var(--sklearn-color-background);\n",
       "  position: relative;\n",
       "}\n",
       "\n",
       "#sk-container-id-5 div.sk-parallel-item {\n",
       "  display: flex;\n",
       "  flex-direction: column;\n",
       "}\n",
       "\n",
       "#sk-container-id-5 div.sk-parallel-item:first-child::after {\n",
       "  align-self: flex-end;\n",
       "  width: 50%;\n",
       "}\n",
       "\n",
       "#sk-container-id-5 div.sk-parallel-item:last-child::after {\n",
       "  align-self: flex-start;\n",
       "  width: 50%;\n",
       "}\n",
       "\n",
       "#sk-container-id-5 div.sk-parallel-item:only-child::after {\n",
       "  width: 0;\n",
       "}\n",
       "\n",
       "/* Serial-specific style estimator block */\n",
       "\n",
       "#sk-container-id-5 div.sk-serial {\n",
       "  display: flex;\n",
       "  flex-direction: column;\n",
       "  align-items: center;\n",
       "  background-color: var(--sklearn-color-background);\n",
       "  padding-right: 1em;\n",
       "  padding-left: 1em;\n",
       "}\n",
       "\n",
       "\n",
       "/* Toggleable style: style used for estimator/Pipeline/ColumnTransformer box that is\n",
       "clickable and can be expanded/collapsed.\n",
       "- Pipeline and ColumnTransformer use this feature and define the default style\n",
       "- Estimators will overwrite some part of the style using the `sk-estimator` class\n",
       "*/\n",
       "\n",
       "/* Pipeline and ColumnTransformer style (default) */\n",
       "\n",
       "#sk-container-id-5 div.sk-toggleable {\n",
       "  /* Default theme specific background. It is overwritten whether we have a\n",
       "  specific estimator or a Pipeline/ColumnTransformer */\n",
       "  background-color: var(--sklearn-color-background);\n",
       "}\n",
       "\n",
       "/* Toggleable label */\n",
       "#sk-container-id-5 label.sk-toggleable__label {\n",
       "  cursor: pointer;\n",
       "  display: block;\n",
       "  width: 100%;\n",
       "  margin-bottom: 0;\n",
       "  padding: 0.5em;\n",
       "  box-sizing: border-box;\n",
       "  text-align: center;\n",
       "}\n",
       "\n",
       "#sk-container-id-5 label.sk-toggleable__label-arrow:before {\n",
       "  /* Arrow on the left of the label */\n",
       "  content: \"▸\";\n",
       "  float: left;\n",
       "  margin-right: 0.25em;\n",
       "  color: var(--sklearn-color-icon);\n",
       "}\n",
       "\n",
       "#sk-container-id-5 label.sk-toggleable__label-arrow:hover:before {\n",
       "  color: var(--sklearn-color-text);\n",
       "}\n",
       "\n",
       "/* Toggleable content - dropdown */\n",
       "\n",
       "#sk-container-id-5 div.sk-toggleable__content {\n",
       "  max-height: 0;\n",
       "  max-width: 0;\n",
       "  overflow: hidden;\n",
       "  text-align: left;\n",
       "  /* unfitted */\n",
       "  background-color: var(--sklearn-color-unfitted-level-0);\n",
       "}\n",
       "\n",
       "#sk-container-id-5 div.sk-toggleable__content.fitted {\n",
       "  /* fitted */\n",
       "  background-color: var(--sklearn-color-fitted-level-0);\n",
       "}\n",
       "\n",
       "#sk-container-id-5 div.sk-toggleable__content pre {\n",
       "  margin: 0.2em;\n",
       "  border-radius: 0.25em;\n",
       "  color: var(--sklearn-color-text);\n",
       "  /* unfitted */\n",
       "  background-color: var(--sklearn-color-unfitted-level-0);\n",
       "}\n",
       "\n",
       "#sk-container-id-5 div.sk-toggleable__content.fitted pre {\n",
       "  /* unfitted */\n",
       "  background-color: var(--sklearn-color-fitted-level-0);\n",
       "}\n",
       "\n",
       "#sk-container-id-5 input.sk-toggleable__control:checked~div.sk-toggleable__content {\n",
       "  /* Expand drop-down */\n",
       "  max-height: 200px;\n",
       "  max-width: 100%;\n",
       "  overflow: auto;\n",
       "}\n",
       "\n",
       "#sk-container-id-5 input.sk-toggleable__control:checked~label.sk-toggleable__label-arrow:before {\n",
       "  content: \"▾\";\n",
       "}\n",
       "\n",
       "/* Pipeline/ColumnTransformer-specific style */\n",
       "\n",
       "#sk-container-id-5 div.sk-label input.sk-toggleable__control:checked~label.sk-toggleable__label {\n",
       "  color: var(--sklearn-color-text);\n",
       "  background-color: var(--sklearn-color-unfitted-level-2);\n",
       "}\n",
       "\n",
       "#sk-container-id-5 div.sk-label.fitted input.sk-toggleable__control:checked~label.sk-toggleable__label {\n",
       "  background-color: var(--sklearn-color-fitted-level-2);\n",
       "}\n",
       "\n",
       "/* Estimator-specific style */\n",
       "\n",
       "/* Colorize estimator box */\n",
       "#sk-container-id-5 div.sk-estimator input.sk-toggleable__control:checked~label.sk-toggleable__label {\n",
       "  /* unfitted */\n",
       "  background-color: var(--sklearn-color-unfitted-level-2);\n",
       "}\n",
       "\n",
       "#sk-container-id-5 div.sk-estimator.fitted input.sk-toggleable__control:checked~label.sk-toggleable__label {\n",
       "  /* fitted */\n",
       "  background-color: var(--sklearn-color-fitted-level-2);\n",
       "}\n",
       "\n",
       "#sk-container-id-5 div.sk-label label.sk-toggleable__label,\n",
       "#sk-container-id-5 div.sk-label label {\n",
       "  /* The background is the default theme color */\n",
       "  color: var(--sklearn-color-text-on-default-background);\n",
       "}\n",
       "\n",
       "/* On hover, darken the color of the background */\n",
       "#sk-container-id-5 div.sk-label:hover label.sk-toggleable__label {\n",
       "  color: var(--sklearn-color-text);\n",
       "  background-color: var(--sklearn-color-unfitted-level-2);\n",
       "}\n",
       "\n",
       "/* Label box, darken color on hover, fitted */\n",
       "#sk-container-id-5 div.sk-label.fitted:hover label.sk-toggleable__label.fitted {\n",
       "  color: var(--sklearn-color-text);\n",
       "  background-color: var(--sklearn-color-fitted-level-2);\n",
       "}\n",
       "\n",
       "/* Estimator label */\n",
       "\n",
       "#sk-container-id-5 div.sk-label label {\n",
       "  font-family: monospace;\n",
       "  font-weight: bold;\n",
       "  display: inline-block;\n",
       "  line-height: 1.2em;\n",
       "}\n",
       "\n",
       "#sk-container-id-5 div.sk-label-container {\n",
       "  text-align: center;\n",
       "}\n",
       "\n",
       "/* Estimator-specific */\n",
       "#sk-container-id-5 div.sk-estimator {\n",
       "  font-family: monospace;\n",
       "  border: 1px dotted var(--sklearn-color-border-box);\n",
       "  border-radius: 0.25em;\n",
       "  box-sizing: border-box;\n",
       "  margin-bottom: 0.5em;\n",
       "  /* unfitted */\n",
       "  background-color: var(--sklearn-color-unfitted-level-0);\n",
       "}\n",
       "\n",
       "#sk-container-id-5 div.sk-estimator.fitted {\n",
       "  /* fitted */\n",
       "  background-color: var(--sklearn-color-fitted-level-0);\n",
       "}\n",
       "\n",
       "/* on hover */\n",
       "#sk-container-id-5 div.sk-estimator:hover {\n",
       "  /* unfitted */\n",
       "  background-color: var(--sklearn-color-unfitted-level-2);\n",
       "}\n",
       "\n",
       "#sk-container-id-5 div.sk-estimator.fitted:hover {\n",
       "  /* fitted */\n",
       "  background-color: var(--sklearn-color-fitted-level-2);\n",
       "}\n",
       "\n",
       "/* Specification for estimator info (e.g. \"i\" and \"?\") */\n",
       "\n",
       "/* Common style for \"i\" and \"?\" */\n",
       "\n",
       ".sk-estimator-doc-link,\n",
       "a:link.sk-estimator-doc-link,\n",
       "a:visited.sk-estimator-doc-link {\n",
       "  float: right;\n",
       "  font-size: smaller;\n",
       "  line-height: 1em;\n",
       "  font-family: monospace;\n",
       "  background-color: var(--sklearn-color-background);\n",
       "  border-radius: 1em;\n",
       "  height: 1em;\n",
       "  width: 1em;\n",
       "  text-decoration: none !important;\n",
       "  margin-left: 1ex;\n",
       "  /* unfitted */\n",
       "  border: var(--sklearn-color-unfitted-level-1) 1pt solid;\n",
       "  color: var(--sklearn-color-unfitted-level-1);\n",
       "}\n",
       "\n",
       ".sk-estimator-doc-link.fitted,\n",
       "a:link.sk-estimator-doc-link.fitted,\n",
       "a:visited.sk-estimator-doc-link.fitted {\n",
       "  /* fitted */\n",
       "  border: var(--sklearn-color-fitted-level-1) 1pt solid;\n",
       "  color: var(--sklearn-color-fitted-level-1);\n",
       "}\n",
       "\n",
       "/* On hover */\n",
       "div.sk-estimator:hover .sk-estimator-doc-link:hover,\n",
       ".sk-estimator-doc-link:hover,\n",
       "div.sk-label-container:hover .sk-estimator-doc-link:hover,\n",
       ".sk-estimator-doc-link:hover {\n",
       "  /* unfitted */\n",
       "  background-color: var(--sklearn-color-unfitted-level-3);\n",
       "  color: var(--sklearn-color-background);\n",
       "  text-decoration: none;\n",
       "}\n",
       "\n",
       "div.sk-estimator.fitted:hover .sk-estimator-doc-link.fitted:hover,\n",
       ".sk-estimator-doc-link.fitted:hover,\n",
       "div.sk-label-container:hover .sk-estimator-doc-link.fitted:hover,\n",
       ".sk-estimator-doc-link.fitted:hover {\n",
       "  /* fitted */\n",
       "  background-color: var(--sklearn-color-fitted-level-3);\n",
       "  color: var(--sklearn-color-background);\n",
       "  text-decoration: none;\n",
       "}\n",
       "\n",
       "/* Span, style for the box shown on hovering the info icon */\n",
       ".sk-estimator-doc-link span {\n",
       "  display: none;\n",
       "  z-index: 9999;\n",
       "  position: relative;\n",
       "  font-weight: normal;\n",
       "  right: .2ex;\n",
       "  padding: .5ex;\n",
       "  margin: .5ex;\n",
       "  width: min-content;\n",
       "  min-width: 20ex;\n",
       "  max-width: 50ex;\n",
       "  color: var(--sklearn-color-text);\n",
       "  box-shadow: 2pt 2pt 4pt #999;\n",
       "  /* unfitted */\n",
       "  background: var(--sklearn-color-unfitted-level-0);\n",
       "  border: .5pt solid var(--sklearn-color-unfitted-level-3);\n",
       "}\n",
       "\n",
       ".sk-estimator-doc-link.fitted span {\n",
       "  /* fitted */\n",
       "  background: var(--sklearn-color-fitted-level-0);\n",
       "  border: var(--sklearn-color-fitted-level-3);\n",
       "}\n",
       "\n",
       ".sk-estimator-doc-link:hover span {\n",
       "  display: block;\n",
       "}\n",
       "\n",
       "/* \"?\"-specific style due to the `<a>` HTML tag */\n",
       "\n",
       "#sk-container-id-5 a.estimator_doc_link {\n",
       "  float: right;\n",
       "  font-size: 1rem;\n",
       "  line-height: 1em;\n",
       "  font-family: monospace;\n",
       "  background-color: var(--sklearn-color-background);\n",
       "  border-radius: 1rem;\n",
       "  height: 1rem;\n",
       "  width: 1rem;\n",
       "  text-decoration: none;\n",
       "  /* unfitted */\n",
       "  color: var(--sklearn-color-unfitted-level-1);\n",
       "  border: var(--sklearn-color-unfitted-level-1) 1pt solid;\n",
       "}\n",
       "\n",
       "#sk-container-id-5 a.estimator_doc_link.fitted {\n",
       "  /* fitted */\n",
       "  border: var(--sklearn-color-fitted-level-1) 1pt solid;\n",
       "  color: var(--sklearn-color-fitted-level-1);\n",
       "}\n",
       "\n",
       "/* On hover */\n",
       "#sk-container-id-5 a.estimator_doc_link:hover {\n",
       "  /* unfitted */\n",
       "  background-color: var(--sklearn-color-unfitted-level-3);\n",
       "  color: var(--sklearn-color-background);\n",
       "  text-decoration: none;\n",
       "}\n",
       "\n",
       "#sk-container-id-5 a.estimator_doc_link.fitted:hover {\n",
       "  /* fitted */\n",
       "  background-color: var(--sklearn-color-fitted-level-3);\n",
       "}\n",
       "</style><div id=\"sk-container-id-5\" class=\"sk-top-container\"><div class=\"sk-text-repr-fallback\"><pre>RandomForestClassifier(random_state=42)</pre><b>In a Jupyter environment, please rerun this cell to show the HTML representation or trust the notebook. <br />On GitHub, the HTML representation is unable to render, please try loading this page with nbviewer.org.</b></div><div class=\"sk-container\" hidden><div class=\"sk-item\"><div class=\"sk-estimator fitted sk-toggleable\"><input class=\"sk-toggleable__control sk-hidden--visually\" id=\"sk-estimator-id-5\" type=\"checkbox\" checked><label for=\"sk-estimator-id-5\" class=\"sk-toggleable__label fitted sk-toggleable__label-arrow fitted\">&nbsp;&nbsp;RandomForestClassifier<a class=\"sk-estimator-doc-link fitted\" rel=\"noreferrer\" target=\"_blank\" href=\"https://scikit-learn.org/1.4/modules/generated/sklearn.ensemble.RandomForestClassifier.html\">?<span>Documentation for RandomForestClassifier</span></a><span class=\"sk-estimator-doc-link fitted\">i<span>Fitted</span></span></label><div class=\"sk-toggleable__content fitted\"><pre>RandomForestClassifier(random_state=42)</pre></div> </div></div></div></div>"
      ],
      "text/plain": [
       "RandomForestClassifier(random_state=42)"
      ]
     },
     "execution_count": 195,
     "metadata": {},
     "output_type": "execute_result"
    }
   ],
   "source": [
    "model"
   ]
  },
  {
   "cell_type": "code",
   "execution_count": 229,
   "id": "1161f10a-3f1f-4ac0-bab7-7e2428ab38bc",
   "metadata": {
    "tags": []
   },
   "outputs": [
    {
     "data": {
      "text/html": [
       "<div>\n",
       "<style scoped>\n",
       "    .dataframe tbody tr th:only-of-type {\n",
       "        vertical-align: middle;\n",
       "    }\n",
       "\n",
       "    .dataframe tbody tr th {\n",
       "        vertical-align: top;\n",
       "    }\n",
       "\n",
       "    .dataframe thead th {\n",
       "        text-align: right;\n",
       "    }\n",
       "</style>\n",
       "<table border=\"1\" class=\"dataframe\">\n",
       "  <thead>\n",
       "    <tr style=\"text-align: right;\">\n",
       "      <th></th>\n",
       "      <th>label</th>\n",
       "      <th>text</th>\n",
       "      <th>cleaned_text</th>\n",
       "      <th>special_chars</th>\n",
       "    </tr>\n",
       "  </thead>\n",
       "  <tbody>\n",
       "    <tr>\n",
       "      <th>0</th>\n",
       "      <td>0</td>\n",
       "      <td>hello in the license header of a source file b...</td>\n",
       "      <td>hello licens header sourc file licens gpl must...</td>\n",
       "      <td>0</td>\n",
       "    </tr>\n",
       "    <tr>\n",
       "      <th>1</th>\n",
       "      <td>1</td>\n",
       "      <td>and pensive by turns lost his appetite neglect...</td>\n",
       "      <td>pensiv turn lost appetit neglect dress devot m...</td>\n",
       "      <td>10</td>\n",
       "    </tr>\n",
       "    <tr>\n",
       "      <th>2</th>\n",
       "      <td>1</td>\n",
       "      <td>symbol alert http sescapenumber bilder hosting...</td>\n",
       "      <td>symbol alert http sescapenumb bilder host de i...</td>\n",
       "      <td>0</td>\n",
       "    </tr>\n",
       "    <tr>\n",
       "      <th>3</th>\n",
       "      <td>0</td>\n",
       "      <td>the internet patrol internet safety windows up...</td>\n",
       "      <td>internet patrol internet safeti window updat i...</td>\n",
       "      <td>3</td>\n",
       "    </tr>\n",
       "    <tr>\n",
       "      <th>4</th>\n",
       "      <td>0</td>\n",
       "      <td>escapenumberfxml version escapenumberd escape...</td>\n",
       "      <td>escapenumberfxml version escapenumberd escapen...</td>\n",
       "      <td>0</td>\n",
       "    </tr>\n",
       "    <tr>\n",
       "      <th>...</th>\n",
       "      <td>...</td>\n",
       "      <td>...</td>\n",
       "      <td>...</td>\n",
       "      <td>...</td>\n",
       "    </tr>\n",
       "    <tr>\n",
       "      <th>5122</th>\n",
       "      <td>1</td>\n",
       "      <td>summer bees were sayingthat this mud draws on ...</td>\n",
       "      <td>summer bee sayingthat mud draw stone hand free...</td>\n",
       "      <td>1</td>\n",
       "    </tr>\n",
       "    <tr>\n",
       "      <th>5123</th>\n",
       "      <td>1</td>\n",
       "      <td>gentile cliente di banca rasbank il servizio t...</td>\n",
       "      <td>gentil client di banca rasbank il servizio tec...</td>\n",
       "      <td>0</td>\n",
       "    </tr>\n",
       "    <tr>\n",
       "      <th>5124</th>\n",
       "      <td>0</td>\n",
       "      <td>on mon escapenumber escapenumber escapenumber ...</td>\n",
       "      <td>mon escapenumb escapenumb escapenumb escapenum...</td>\n",
       "      <td>6</td>\n",
       "    </tr>\n",
       "    <tr>\n",
       "      <th>5125</th>\n",
       "      <td>1</td>\n",
       "      <td>trading escapelong for you special situation a...</td>\n",
       "      <td>trade escapelong special situat alert tmxo tri...</td>\n",
       "      <td>0</td>\n",
       "    </tr>\n",
       "    <tr>\n",
       "      <th>5126</th>\n",
       "      <td>1</td>\n",
       "      <td>as a business you have been preapproved to rec...</td>\n",
       "      <td>busi preapprov receiv escapenumb usd today has...</td>\n",
       "      <td>0</td>\n",
       "    </tr>\n",
       "  </tbody>\n",
       "</table>\n",
       "<p>5127 rows × 4 columns</p>\n",
       "</div>"
      ],
      "text/plain": [
       "      label                                               text  \\\n",
       "0         0  hello in the license header of a source file b...   \n",
       "1         1  and pensive by turns lost his appetite neglect...   \n",
       "2         1  symbol alert http sescapenumber bilder hosting...   \n",
       "3         0  the internet patrol internet safety windows up...   \n",
       "4         0   escapenumberfxml version escapenumberd escape...   \n",
       "...     ...                                                ...   \n",
       "5122      1  summer bees were sayingthat this mud draws on ...   \n",
       "5123      1  gentile cliente di banca rasbank il servizio t...   \n",
       "5124      0  on mon escapenumber escapenumber escapenumber ...   \n",
       "5125      1  trading escapelong for you special situation a...   \n",
       "5126      1  as a business you have been preapproved to rec...   \n",
       "\n",
       "                                           cleaned_text  special_chars  \n",
       "0     hello licens header sourc file licens gpl must...              0  \n",
       "1     pensiv turn lost appetit neglect dress devot m...             10  \n",
       "2     symbol alert http sescapenumb bilder host de i...              0  \n",
       "3     internet patrol internet safeti window updat i...              3  \n",
       "4     escapenumberfxml version escapenumberd escapen...              0  \n",
       "...                                                 ...            ...  \n",
       "5122  summer bee sayingthat mud draw stone hand free...              1  \n",
       "5123  gentil client di banca rasbank il servizio tec...              0  \n",
       "5124  mon escapenumb escapenumb escapenumb escapenum...              6  \n",
       "5125  trade escapelong special situat alert tmxo tri...              0  \n",
       "5126  busi preapprov receiv escapenumb usd today has...              0  \n",
       "\n",
       "[5127 rows x 4 columns]"
      ]
     },
     "execution_count": 229,
     "metadata": {},
     "output_type": "execute_result"
    }
   ],
   "source": [
    "df_test['special_chars'] = df_test['text'].apply(count_special_chars)\n",
    "df_test.rename(columns={'transformed_text': 'cleaned_text'}, inplace=True)\n",
    "df_test"
   ]
  },
  {
   "cell_type": "code",
   "execution_count": 209,
   "id": "c1da718c-d355-4c9d-8c1a-72b9c980b11e",
   "metadata": {
    "tags": []
   },
   "outputs": [],
   "source": [
    "# Transform the new test data using the pre-existing preprocessor\n",
    "X_new_test = preprocessor.transform(df_test)\n",
    "y_new_test = df_test['label'].values"
   ]
  },
  {
   "cell_type": "code",
   "execution_count": 211,
   "id": "b057baca-830a-4606-8732-ac5d59caeed1",
   "metadata": {
    "tags": []
   },
   "outputs": [
    {
     "name": "stdout",
     "output_type": "stream",
     "text": [
      "Random Forest Accuracy on new test data: 0.8946752486834406\n"
     ]
    }
   ],
   "source": [
    "# Predict using the already trained model\n",
    "y_pred_new_test = model.predict(X_new_test)\n",
    "\n",
    "# Evaluate the performance\n",
    "print(\"Random Forest Accuracy on new test data:\", accuracy_score(y_new_test, y_pred_new_test))\n"
   ]
  },
  {
   "cell_type": "markdown",
   "id": "36b0dd3a-8e31-4c6a-bf8f-97d51182121d",
   "metadata": {},
   "source": [
    "### Naive Bayes\n",
    "\n",
    "Since Naive Bayes is not mean to handle negative values, the standardScaler we used above often results in negative values, below we will switch to MinMaxScaler to ensure non-negative feature values."
   ]
  },
  {
   "cell_type": "code",
   "execution_count": 225,
   "id": "3fda3e4c-6292-4ec2-9af0-f1d3756b1e8e",
   "metadata": {
    "tags": []
   },
   "outputs": [
    {
     "name": "stdout",
     "output_type": "stream",
     "text": [
      "Accuracy with Naive Bayes: 0.6727951535643844\n"
     ]
    }
   ],
   "source": [
    "from sklearn.preprocessing import MinMaxScaler\n",
    "preprocessor = ColumnTransformer(\n",
    "    transformers=[\n",
    "        ('txt', tfid, 'cleaned_text'),\n",
    "        ('num', MinMaxScaler(), ['special_chars'])\n",
    "    ])\n",
    "\n",
    "# Apply preprocessing to create a transformed feature matrix\n",
    "X = preprocessor.fit_transform(df_trec_06_07_combined)\n",
    "y = df_trec_06_07_combined['label'].values\n",
    "\n",
    "# Splitting the data\n",
    "X_train_trec_combined, X_test_trec_combined, y_train_trec_combined, y_test_trec_combined = train_test_split(\n",
    "    X, y, test_size=0.2, random_state=42\n",
    ")\n",
    "\n",
    "# Configure the Naive Bayes model\n",
    "model = MultinomialNB(alpha=0.01)\n",
    "model.fit(X_train_trec_combined, y_train_trec_combined)\n",
    "\n",
    "# Prediction and evaluation\n",
    "y_pred = model.predict(X_test_trec_combined)\n",
    "print(\"Accuracy with Naive Bayes:\", accuracy_score(y_test_trec_combined, y_pred))"
   ]
  },
  {
   "cell_type": "code",
   "execution_count": 226,
   "id": "e96ef0cf-953a-4839-852d-a8ffa44b8caf",
   "metadata": {
    "tags": []
   },
   "outputs": [
    {
     "name": "stdout",
     "output_type": "stream",
     "text": [
      "Naive Bayes Accuracy on new test data: 0.7778427930563683\n"
     ]
    }
   ],
   "source": [
    "# Predict using the already trained model\n",
    "y_pred_new_test = model.predict(X_new_test)\n",
    "\n",
    "# Evaluate the performance\n",
    "print(\"Naive Bayes Accuracy on new test data:\", accuracy_score(y_new_test, y_pred_new_test))"
   ]
  },
  {
   "cell_type": "markdown",
   "id": "17840a7a-b9b0-497f-bf08-ed9819aeb2cc",
   "metadata": {
    "tags": []
   },
   "source": [
    "From the new results we can see how adding the special character feature improved both model with a better improvement on Naive Bayes model. WE will add more feature to see it models can be further improved."
   ]
  },
  {
   "cell_type": "markdown",
   "id": "88fa7e46-9365-48a9-86d9-fa33d124ed59",
   "metadata": {},
   "source": [
    "### Adding one more feature(Sentiment)\n",
    "\n",
    "Adding a sentiment score as a feature can provide valuable insights into the emotional tone of the text, which might be characteristic of either spam or non-spam emails. For instance, spam emails might exhibit overly positive sentiments with promises of rewards or benefits, or they might convey a sense of urgency that could manifest as a negative sentiment. Textblob from NLTK libarary will be use. Polarity is a float within the range [-1.0, 1.0], where -1.0 is very negative, and 1.0 is very positive.\n",
    "\n",
    "\n"
   ]
  },
  {
   "cell_type": "code",
   "execution_count": 232,
   "id": "88f549ad-4937-4cb0-939b-3cb7ce416e85",
   "metadata": {
    "tags": []
   },
   "outputs": [
    {
     "name": "stdout",
     "output_type": "stream",
     "text": [
      "Collecting textblob\n",
      "  Obtaining dependency information for textblob from https://files.pythonhosted.org/packages/02/07/5fd2945356dd839974d3a25de8a142dc37293c21315729a41e775b5f3569/textblob-0.18.0.post0-py3-none-any.whl.metadata\n",
      "  Downloading textblob-0.18.0.post0-py3-none-any.whl.metadata (4.5 kB)\n",
      "Requirement already satisfied: nltk>=3.8 in /Users/shuyan/anaconda3/lib/python3.11/site-packages (from textblob) (3.8.1)\n",
      "Requirement already satisfied: click in /Users/shuyan/anaconda3/lib/python3.11/site-packages (from nltk>=3.8->textblob) (8.0.4)\n",
      "Requirement already satisfied: joblib in /Users/shuyan/anaconda3/lib/python3.11/site-packages (from nltk>=3.8->textblob) (1.2.0)\n",
      "Requirement already satisfied: regex>=2021.8.3 in /Users/shuyan/anaconda3/lib/python3.11/site-packages (from nltk>=3.8->textblob) (2022.7.9)\n",
      "Requirement already satisfied: tqdm in /Users/shuyan/anaconda3/lib/python3.11/site-packages (from nltk>=3.8->textblob) (4.65.0)\n",
      "Downloading textblob-0.18.0.post0-py3-none-any.whl (626 kB)\n",
      "\u001b[2K   \u001b[90m━━━━━━━━━━━━━━━━━━━━━━━━━━━━━━━━━━━━━━━━\u001b[0m \u001b[32m626.3/626.3 kB\u001b[0m \u001b[31m10.9 MB/s\u001b[0m eta \u001b[36m0:00:00\u001b[0m \u001b[36m0:00:01\u001b[0m\n",
      "\u001b[?25hInstalling collected packages: textblob\n",
      "Successfully installed textblob-0.18.0.post0\n",
      "Note: you may need to restart the kernel to use updated packages.\n"
     ]
    }
   ],
   "source": [
    "pip install textblob"
   ]
  },
  {
   "cell_type": "code",
   "execution_count": 234,
   "id": "76d7057a-8748-4ace-be53-5cc7b48ac731",
   "metadata": {
    "tags": []
   },
   "outputs": [],
   "source": [
    "from textblob import TextBlob\n",
    "\n",
    "# Function to calculate sentiment polarity\n",
    "def get_sentiment(text):\n",
    "    # Returns the polarity of the text\n",
    "    return TextBlob(text).sentiment.polarity"
   ]
  },
  {
   "cell_type": "code",
   "execution_count": 239,
   "id": "246b9307-ee6b-450f-9622-22a0de86dd35",
   "metadata": {
    "tags": []
   },
   "outputs": [],
   "source": [
    "# Applying the function to your dataframe\n",
    "df_trec_06_07_combined['sentiment_polarity'] = df_trec_06_07_combined['text'].apply(get_sentiment)"
   ]
  },
  {
   "cell_type": "code",
   "execution_count": 240,
   "id": "9b6858e2-3663-4a15-8e45-98f3ec521561",
   "metadata": {
    "tags": []
   },
   "outputs": [
    {
     "data": {
      "text/html": [
       "<div>\n",
       "<style scoped>\n",
       "    .dataframe tbody tr th:only-of-type {\n",
       "        vertical-align: middle;\n",
       "    }\n",
       "\n",
       "    .dataframe tbody tr th {\n",
       "        vertical-align: top;\n",
       "    }\n",
       "\n",
       "    .dataframe thead th {\n",
       "        text-align: right;\n",
       "    }\n",
       "</style>\n",
       "<table border=\"1\" class=\"dataframe\">\n",
       "  <thead>\n",
       "    <tr style=\"text-align: right;\">\n",
       "      <th></th>\n",
       "      <th>cleaned_text</th>\n",
       "      <th>label</th>\n",
       "      <th>special_chars</th>\n",
       "      <th>text</th>\n",
       "      <th>sentiment_polarity</th>\n",
       "    </tr>\n",
       "  </thead>\n",
       "  <tbody>\n",
       "    <tr>\n",
       "      <th>0</th>\n",
       "      <td>feel pressur perform rise occas tri v ia gr an...</td>\n",
       "      <td>1</td>\n",
       "      <td>0</td>\n",
       "      <td>do you feel the pressure to perform and not ri...</td>\n",
       "      <td>-0.050000</td>\n",
       "    </tr>\n",
       "    <tr>\n",
       "      <th>1</th>\n",
       "      <td>hi updat gulu check mirror seem littl typo deb...</td>\n",
       "      <td>0</td>\n",
       "      <td>1</td>\n",
       "      <td>hi i've just updated from the gulus and i chec...</td>\n",
       "      <td>-0.135833</td>\n",
       "    </tr>\n",
       "    <tr>\n",
       "      <th>2</th>\n",
       "      <td>mega authenticv g r discount pricec l discount...</td>\n",
       "      <td>1</td>\n",
       "      <td>0</td>\n",
       "      <td>mega authenticv i a g r a discount pricec i a ...</td>\n",
       "      <td>0.000000</td>\n",
       "    </tr>\n",
       "    <tr>\n",
       "      <th>3</th>\n",
       "      <td>hey billi realli fun go night talk said felt i...</td>\n",
       "      <td>1</td>\n",
       "      <td>1</td>\n",
       "      <td>hey billy it was really fun going out the othe...</td>\n",
       "      <td>0.101923</td>\n",
       "    </tr>\n",
       "    <tr>\n",
       "      <th>4</th>\n",
       "      <td>system home capabl link far know within part r...</td>\n",
       "      <td>1</td>\n",
       "      <td>6</td>\n",
       "      <td>system of the home it will have the capabiliti...</td>\n",
       "      <td>0.095893</td>\n",
       "    </tr>\n",
       "    <tr>\n",
       "      <th>...</th>\n",
       "      <td>...</td>\n",
       "      <td>...</td>\n",
       "      <td>...</td>\n",
       "      <td>...</td>\n",
       "      <td>...</td>\n",
       "    </tr>\n",
       "    <tr>\n",
       "      <th>70972</th>\n",
       "      <td>ch gold cor p symbol c gd c current price esca...</td>\n",
       "      <td>1</td>\n",
       "      <td>6</td>\n",
       "      <td>ch in a gold cor p symbol c gd c current price...</td>\n",
       "      <td>0.137129</td>\n",
       "    </tr>\n",
       "    <tr>\n",
       "      <th>70973</th>\n",
       "      <td>begin pgp sign messag hash shaescapenumb vulne...</td>\n",
       "      <td>0</td>\n",
       "      <td>0</td>\n",
       "      <td>begin pgp signed message hash shaescapenumber...</td>\n",
       "      <td>0.268182</td>\n",
       "    </tr>\n",
       "    <tr>\n",
       "      <th>70974</th>\n",
       "      <td>lucki draw global lotto promot head offic esca...</td>\n",
       "      <td>1</td>\n",
       "      <td>0</td>\n",
       "      <td>lucky draw global lotto promotions head office...</td>\n",
       "      <td>0.102778</td>\n",
       "    </tr>\n",
       "    <tr>\n",
       "      <th>70975</th>\n",
       "      <td>run script play seri short sound file file pla...</td>\n",
       "      <td>0</td>\n",
       "      <td>0</td>\n",
       "      <td>i am running a script which plays a series of ...</td>\n",
       "      <td>0.169231</td>\n",
       "    </tr>\n",
       "    <tr>\n",
       "      <th>70976</th>\n",
       "      <td>yeah number peopl year similar problem want se...</td>\n",
       "      <td>0</td>\n",
       "      <td>2</td>\n",
       "      <td>yeah a number of people over the years have ha...</td>\n",
       "      <td>0.193750</td>\n",
       "    </tr>\n",
       "  </tbody>\n",
       "</table>\n",
       "<p>70977 rows × 5 columns</p>\n",
       "</div>"
      ],
      "text/plain": [
       "                                            cleaned_text  label  \\\n",
       "0      feel pressur perform rise occas tri v ia gr an...      1   \n",
       "1      hi updat gulu check mirror seem littl typo deb...      0   \n",
       "2      mega authenticv g r discount pricec l discount...      1   \n",
       "3      hey billi realli fun go night talk said felt i...      1   \n",
       "4      system home capabl link far know within part r...      1   \n",
       "...                                                  ...    ...   \n",
       "70972  ch gold cor p symbol c gd c current price esca...      1   \n",
       "70973  begin pgp sign messag hash shaescapenumb vulne...      0   \n",
       "70974  lucki draw global lotto promot head offic esca...      1   \n",
       "70975  run script play seri short sound file file pla...      0   \n",
       "70976  yeah number peopl year similar problem want se...      0   \n",
       "\n",
       "       special_chars                                               text  \\\n",
       "0                  0  do you feel the pressure to perform and not ri...   \n",
       "1                  1  hi i've just updated from the gulus and i chec...   \n",
       "2                  0  mega authenticv i a g r a discount pricec i a ...   \n",
       "3                  1  hey billy it was really fun going out the othe...   \n",
       "4                  6  system of the home it will have the capabiliti...   \n",
       "...              ...                                                ...   \n",
       "70972              6  ch in a gold cor p symbol c gd c current price...   \n",
       "70973              0   begin pgp signed message hash shaescapenumber...   \n",
       "70974              0  lucky draw global lotto promotions head office...   \n",
       "70975              0  i am running a script which plays a series of ...   \n",
       "70976              2  yeah a number of people over the years have ha...   \n",
       "\n",
       "       sentiment_polarity  \n",
       "0               -0.050000  \n",
       "1               -0.135833  \n",
       "2                0.000000  \n",
       "3                0.101923  \n",
       "4                0.095893  \n",
       "...                   ...  \n",
       "70972            0.137129  \n",
       "70973            0.268182  \n",
       "70974            0.102778  \n",
       "70975            0.169231  \n",
       "70976            0.193750  \n",
       "\n",
       "[70977 rows x 5 columns]"
      ]
     },
     "execution_count": 240,
     "metadata": {},
     "output_type": "execute_result"
    }
   ],
   "source": [
    "df_trec_06_07_combined"
   ]
  },
  {
   "cell_type": "code",
   "execution_count": 252,
   "id": "014aa4bb-f7a2-49ba-8827-8871b7e07ea3",
   "metadata": {
    "tags": []
   },
   "outputs": [
    {
     "name": "stdout",
     "output_type": "stream",
     "text": [
      "Accuracy: 0.8470695970695971\n"
     ]
    },
    {
     "data": {
      "text/plain": [
       "['rf_pipeline.pkl']"
      ]
     },
     "execution_count": 252,
     "metadata": {},
     "output_type": "execute_result"
    }
   ],
   "source": [
    "import joblib\n",
    "# Define the preprocessor as a ColumnTransformer\n",
    "preprocessor = ColumnTransformer(\n",
    "    transformers=[\n",
    "        ('txt', tfid, 'cleaned_text'),\n",
    "        ('num', MinMaxScaler(), ['special_chars']),\n",
    "        ('sent', 'passthrough', ['sentiment_polarity'])  # Pass through sentiment scores without scaling\n",
    "    ])\n",
    "\n",
    "# Creating a complete pipeline with preprocessing and classifier\n",
    "pipeline = Pipeline([\n",
    "    ('preprocessor', preprocessor),\n",
    "    ('classifier', RandomForestClassifier(random_state=42))\n",
    "])\n",
    "\n",
    "# Assuming df is your DataFrame with features and labels\n",
    "X = df_trec_06_07_combined.drop('label', axis=1)\n",
    "y = df_trec_06_07_combined['label']\n",
    "X_train, X_test, y_train, y_test = train_test_split(X, y, test_size=0.2, random_state=42)\n",
    "\n",
    "# Train the model\n",
    "pipeline.fit(X_train, y_train)\n",
    "\n",
    "# Evaluate the model\n",
    "from sklearn.metrics import accuracy_score\n",
    "y_pred = pipeline.predict(X_test)\n",
    "print(\"Accuracy:\", accuracy_score(y_test, y_pred))\n",
    "\n",
    "# Save the pipeline to disk\n",
    "joblib.dump(pipeline, 'rf_pipeline.pkl')"
   ]
  },
  {
   "cell_type": "markdown",
   "id": "cf598e02-6c15-4b66-b9f8-74360ab24820",
   "metadata": {},
   "source": [
    "We can see this improved the Random Forest's performance from 0.8364327979712595 to 0.8470695970695971."
   ]
  },
  {
   "cell_type": "markdown",
   "id": "ca90f1ed-b78c-4e11-88dc-9c37525ce2d9",
   "metadata": {
    "tags": []
   },
   "source": [
    "### Naive Bayes\n",
    "\n",
    "I will now add this feature to Naive Bayes. Since Naive Bayes handles negative scores prooly, according adjustment will be made.transforming the range from \n",
    "[−1,1] to [0,2]. This method preserves the relative differences between scores."
   ]
  },
  {
   "cell_type": "code",
   "execution_count": 244,
   "id": "cfc32fdf-70a6-4f0b-9912-ba36d0f4ecda",
   "metadata": {
    "tags": []
   },
   "outputs": [],
   "source": [
    "# Function to adjust sentiment scores\n",
    "def adjust_sentiment(score):\n",
    "    return score + 1\n",
    "\n",
    "# Applying the adjustment\n",
    "df_trec_06_07_combined['adjusted_sentiment'] = df_trec_06_07_combined['sentiment_polarity'].apply(adjust_sentiment)\n"
   ]
  },
  {
   "cell_type": "code",
   "execution_count": 245,
   "id": "9423d8ff-f829-48c5-aa49-65786e503029",
   "metadata": {
    "tags": []
   },
   "outputs": [
    {
     "data": {
      "text/html": [
       "<div>\n",
       "<style scoped>\n",
       "    .dataframe tbody tr th:only-of-type {\n",
       "        vertical-align: middle;\n",
       "    }\n",
       "\n",
       "    .dataframe tbody tr th {\n",
       "        vertical-align: top;\n",
       "    }\n",
       "\n",
       "    .dataframe thead th {\n",
       "        text-align: right;\n",
       "    }\n",
       "</style>\n",
       "<table border=\"1\" class=\"dataframe\">\n",
       "  <thead>\n",
       "    <tr style=\"text-align: right;\">\n",
       "      <th></th>\n",
       "      <th>cleaned_text</th>\n",
       "      <th>label</th>\n",
       "      <th>special_chars</th>\n",
       "      <th>text</th>\n",
       "      <th>sentiment_polarity</th>\n",
       "      <th>adjusted_sentiment</th>\n",
       "    </tr>\n",
       "  </thead>\n",
       "  <tbody>\n",
       "    <tr>\n",
       "      <th>0</th>\n",
       "      <td>feel pressur perform rise occas tri v ia gr an...</td>\n",
       "      <td>1</td>\n",
       "      <td>0</td>\n",
       "      <td>do you feel the pressure to perform and not ri...</td>\n",
       "      <td>-0.050000</td>\n",
       "      <td>0.950000</td>\n",
       "    </tr>\n",
       "    <tr>\n",
       "      <th>1</th>\n",
       "      <td>hi updat gulu check mirror seem littl typo deb...</td>\n",
       "      <td>0</td>\n",
       "      <td>1</td>\n",
       "      <td>hi i've just updated from the gulus and i chec...</td>\n",
       "      <td>-0.135833</td>\n",
       "      <td>0.864167</td>\n",
       "    </tr>\n",
       "    <tr>\n",
       "      <th>2</th>\n",
       "      <td>mega authenticv g r discount pricec l discount...</td>\n",
       "      <td>1</td>\n",
       "      <td>0</td>\n",
       "      <td>mega authenticv i a g r a discount pricec i a ...</td>\n",
       "      <td>0.000000</td>\n",
       "      <td>1.000000</td>\n",
       "    </tr>\n",
       "    <tr>\n",
       "      <th>3</th>\n",
       "      <td>hey billi realli fun go night talk said felt i...</td>\n",
       "      <td>1</td>\n",
       "      <td>1</td>\n",
       "      <td>hey billy it was really fun going out the othe...</td>\n",
       "      <td>0.101923</td>\n",
       "      <td>1.101923</td>\n",
       "    </tr>\n",
       "    <tr>\n",
       "      <th>4</th>\n",
       "      <td>system home capabl link far know within part r...</td>\n",
       "      <td>1</td>\n",
       "      <td>6</td>\n",
       "      <td>system of the home it will have the capabiliti...</td>\n",
       "      <td>0.095893</td>\n",
       "      <td>1.095893</td>\n",
       "    </tr>\n",
       "    <tr>\n",
       "      <th>...</th>\n",
       "      <td>...</td>\n",
       "      <td>...</td>\n",
       "      <td>...</td>\n",
       "      <td>...</td>\n",
       "      <td>...</td>\n",
       "      <td>...</td>\n",
       "    </tr>\n",
       "    <tr>\n",
       "      <th>70972</th>\n",
       "      <td>ch gold cor p symbol c gd c current price esca...</td>\n",
       "      <td>1</td>\n",
       "      <td>6</td>\n",
       "      <td>ch in a gold cor p symbol c gd c current price...</td>\n",
       "      <td>0.137129</td>\n",
       "      <td>1.137129</td>\n",
       "    </tr>\n",
       "    <tr>\n",
       "      <th>70973</th>\n",
       "      <td>begin pgp sign messag hash shaescapenumb vulne...</td>\n",
       "      <td>0</td>\n",
       "      <td>0</td>\n",
       "      <td>begin pgp signed message hash shaescapenumber...</td>\n",
       "      <td>0.268182</td>\n",
       "      <td>1.268182</td>\n",
       "    </tr>\n",
       "    <tr>\n",
       "      <th>70974</th>\n",
       "      <td>lucki draw global lotto promot head offic esca...</td>\n",
       "      <td>1</td>\n",
       "      <td>0</td>\n",
       "      <td>lucky draw global lotto promotions head office...</td>\n",
       "      <td>0.102778</td>\n",
       "      <td>1.102778</td>\n",
       "    </tr>\n",
       "    <tr>\n",
       "      <th>70975</th>\n",
       "      <td>run script play seri short sound file file pla...</td>\n",
       "      <td>0</td>\n",
       "      <td>0</td>\n",
       "      <td>i am running a script which plays a series of ...</td>\n",
       "      <td>0.169231</td>\n",
       "      <td>1.169231</td>\n",
       "    </tr>\n",
       "    <tr>\n",
       "      <th>70976</th>\n",
       "      <td>yeah number peopl year similar problem want se...</td>\n",
       "      <td>0</td>\n",
       "      <td>2</td>\n",
       "      <td>yeah a number of people over the years have ha...</td>\n",
       "      <td>0.193750</td>\n",
       "      <td>1.193750</td>\n",
       "    </tr>\n",
       "  </tbody>\n",
       "</table>\n",
       "<p>70977 rows × 6 columns</p>\n",
       "</div>"
      ],
      "text/plain": [
       "                                            cleaned_text  label  \\\n",
       "0      feel pressur perform rise occas tri v ia gr an...      1   \n",
       "1      hi updat gulu check mirror seem littl typo deb...      0   \n",
       "2      mega authenticv g r discount pricec l discount...      1   \n",
       "3      hey billi realli fun go night talk said felt i...      1   \n",
       "4      system home capabl link far know within part r...      1   \n",
       "...                                                  ...    ...   \n",
       "70972  ch gold cor p symbol c gd c current price esca...      1   \n",
       "70973  begin pgp sign messag hash shaescapenumb vulne...      0   \n",
       "70974  lucki draw global lotto promot head offic esca...      1   \n",
       "70975  run script play seri short sound file file pla...      0   \n",
       "70976  yeah number peopl year similar problem want se...      0   \n",
       "\n",
       "       special_chars                                               text  \\\n",
       "0                  0  do you feel the pressure to perform and not ri...   \n",
       "1                  1  hi i've just updated from the gulus and i chec...   \n",
       "2                  0  mega authenticv i a g r a discount pricec i a ...   \n",
       "3                  1  hey billy it was really fun going out the othe...   \n",
       "4                  6  system of the home it will have the capabiliti...   \n",
       "...              ...                                                ...   \n",
       "70972              6  ch in a gold cor p symbol c gd c current price...   \n",
       "70973              0   begin pgp signed message hash shaescapenumber...   \n",
       "70974              0  lucky draw global lotto promotions head office...   \n",
       "70975              0  i am running a script which plays a series of ...   \n",
       "70976              2  yeah a number of people over the years have ha...   \n",
       "\n",
       "       sentiment_polarity  adjusted_sentiment  \n",
       "0               -0.050000            0.950000  \n",
       "1               -0.135833            0.864167  \n",
       "2                0.000000            1.000000  \n",
       "3                0.101923            1.101923  \n",
       "4                0.095893            1.095893  \n",
       "...                   ...                 ...  \n",
       "70972            0.137129            1.137129  \n",
       "70973            0.268182            1.268182  \n",
       "70974            0.102778            1.102778  \n",
       "70975            0.169231            1.169231  \n",
       "70976            0.193750            1.193750  \n",
       "\n",
       "[70977 rows x 6 columns]"
      ]
     },
     "execution_count": 245,
     "metadata": {},
     "output_type": "execute_result"
    }
   ],
   "source": [
    "df_trec_06_07_combined"
   ]
  },
  {
   "cell_type": "code",
   "execution_count": 253,
   "id": "436442e9-2a36-4cae-a9f4-8255dceb402b",
   "metadata": {
    "tags": []
   },
   "outputs": [
    {
     "name": "stdout",
     "output_type": "stream",
     "text": [
      "Accuracy with Naive Bayes: 0.76\n"
     ]
    },
    {
     "data": {
      "text/plain": [
       "['nb_pipeline.pkl']"
      ]
     },
     "execution_count": 253,
     "metadata": {},
     "output_type": "execute_result"
    }
   ],
   "source": [
    "# Define the preprocessor with adjusted sentiment\n",
    "preprocessor = ColumnTransformer(\n",
    "    transformers=[\n",
    "        ('txt', tfid, 'cleaned_text'),   # Apply TF-IDF to text data\n",
    "        ('num', MinMaxScaler(), ['special_chars']),    # Scale numeric features as needed\n",
    "        ('sent', 'passthrough', ['adjusted_sentiment']) # Use the adjusted sentiment\n",
    "    ])\n",
    "\n",
    "# Creating the pipeline\n",
    "pipeline = Pipeline([\n",
    "    ('preprocessor', preprocessor),\n",
    "    ('classifier', MultinomialNB(alpha=0.01))\n",
    "])\n",
    "\n",
    "# data setup and split\n",
    "X = df_trec_06_07_combined.drop('label', axis=1)\n",
    "y = df_trec_06_07_combined['label']\n",
    "X_train, X_test, y_train, y_test = train_test_split(X, y, test_size=0.2, random_state=42)\n",
    "\n",
    "# Train and evaluate the model\n",
    "pipeline.fit(X_train, y_train)\n",
    "y_pred = pipeline.predict(X_test)\n",
    "accuracy = accuracy_score(y_test, y_pred)\n",
    "print(f\"Accuracy with Naive Bayes: {accuracy:.2f}\")\n",
    "\n",
    "# Save the pipeline to disk\n",
    "joblib.dump(pipeline, 'nb_pipeline.pkl')"
   ]
  },
  {
   "cell_type": "markdown",
   "id": "06678fa6-ff08-4250-be57-6ca8b5198c83",
   "metadata": {
    "tags": []
   },
   "source": [
    "Naive Bayes' performance improved from 0.67 to 0.76."
   ]
  },
  {
   "cell_type": "markdown",
   "id": "5e18dd10-b80b-464d-b26b-b63b64a32cf2",
   "metadata": {
    "tags": []
   },
   "source": [
    "### Testing on the test dataset\n",
    "\n",
    "Now we will test both models on the unseen new dataset to check the how models generalize."
   ]
  },
  {
   "cell_type": "code",
   "execution_count": 251,
   "id": "6f6c1c06-13de-4538-bcad-c652d47ccfbb",
   "metadata": {
    "tags": []
   },
   "outputs": [
    {
     "data": {
      "text/html": [
       "<div>\n",
       "<style scoped>\n",
       "    .dataframe tbody tr th:only-of-type {\n",
       "        vertical-align: middle;\n",
       "    }\n",
       "\n",
       "    .dataframe tbody tr th {\n",
       "        vertical-align: top;\n",
       "    }\n",
       "\n",
       "    .dataframe thead th {\n",
       "        text-align: right;\n",
       "    }\n",
       "</style>\n",
       "<table border=\"1\" class=\"dataframe\">\n",
       "  <thead>\n",
       "    <tr style=\"text-align: right;\">\n",
       "      <th></th>\n",
       "      <th>label</th>\n",
       "      <th>text</th>\n",
       "      <th>cleaned_text</th>\n",
       "      <th>special_chars</th>\n",
       "      <th>sentiment_polarity</th>\n",
       "      <th>adjusted_sentiment</th>\n",
       "    </tr>\n",
       "  </thead>\n",
       "  <tbody>\n",
       "    <tr>\n",
       "      <th>0</th>\n",
       "      <td>0</td>\n",
       "      <td>hello in the license header of a source file b...</td>\n",
       "      <td>hello licens header sourc file licens gpl must...</td>\n",
       "      <td>0</td>\n",
       "      <td>0.091667</td>\n",
       "      <td>1.091667</td>\n",
       "    </tr>\n",
       "    <tr>\n",
       "      <th>1</th>\n",
       "      <td>1</td>\n",
       "      <td>and pensive by turns lost his appetite neglect...</td>\n",
       "      <td>pensiv turn lost appetit neglect dress devot m...</td>\n",
       "      <td>10</td>\n",
       "      <td>0.051031</td>\n",
       "      <td>1.051031</td>\n",
       "    </tr>\n",
       "    <tr>\n",
       "      <th>2</th>\n",
       "      <td>1</td>\n",
       "      <td>symbol alert http sescapenumber bilder hosting...</td>\n",
       "      <td>symbol alert http sescapenumb bilder host de i...</td>\n",
       "      <td>0</td>\n",
       "      <td>0.000000</td>\n",
       "      <td>1.000000</td>\n",
       "    </tr>\n",
       "    <tr>\n",
       "      <th>3</th>\n",
       "      <td>0</td>\n",
       "      <td>the internet patrol internet safety windows up...</td>\n",
       "      <td>internet patrol internet safeti window updat i...</td>\n",
       "      <td>3</td>\n",
       "      <td>0.256111</td>\n",
       "      <td>1.256111</td>\n",
       "    </tr>\n",
       "    <tr>\n",
       "      <th>4</th>\n",
       "      <td>0</td>\n",
       "      <td>escapenumberfxml version escapenumberd escape...</td>\n",
       "      <td>escapenumberfxml version escapenumberd escapen...</td>\n",
       "      <td>0</td>\n",
       "      <td>0.152706</td>\n",
       "      <td>1.152706</td>\n",
       "    </tr>\n",
       "    <tr>\n",
       "      <th>...</th>\n",
       "      <td>...</td>\n",
       "      <td>...</td>\n",
       "      <td>...</td>\n",
       "      <td>...</td>\n",
       "      <td>...</td>\n",
       "      <td>...</td>\n",
       "    </tr>\n",
       "    <tr>\n",
       "      <th>5122</th>\n",
       "      <td>1</td>\n",
       "      <td>summer bees were sayingthat this mud draws on ...</td>\n",
       "      <td>summer bee sayingthat mud draw stone hand free...</td>\n",
       "      <td>1</td>\n",
       "      <td>0.128571</td>\n",
       "      <td>1.128571</td>\n",
       "    </tr>\n",
       "    <tr>\n",
       "      <th>5123</th>\n",
       "      <td>1</td>\n",
       "      <td>gentile cliente di banca rasbank il servizio t...</td>\n",
       "      <td>gentil client di banca rasbank il servizio tec...</td>\n",
       "      <td>0</td>\n",
       "      <td>0.416667</td>\n",
       "      <td>1.416667</td>\n",
       "    </tr>\n",
       "    <tr>\n",
       "      <th>5124</th>\n",
       "      <td>0</td>\n",
       "      <td>on mon escapenumber escapenumber escapenumber ...</td>\n",
       "      <td>mon escapenumb escapenumb escapenumb escapenum...</td>\n",
       "      <td>6</td>\n",
       "      <td>0.175982</td>\n",
       "      <td>1.175982</td>\n",
       "    </tr>\n",
       "    <tr>\n",
       "      <th>5125</th>\n",
       "      <td>1</td>\n",
       "      <td>trading escapelong for you special situation a...</td>\n",
       "      <td>trade escapelong special situat alert tmxo tri...</td>\n",
       "      <td>0</td>\n",
       "      <td>0.179683</td>\n",
       "      <td>1.179683</td>\n",
       "    </tr>\n",
       "    <tr>\n",
       "      <th>5126</th>\n",
       "      <td>1</td>\n",
       "      <td>as a business you have been preapproved to rec...</td>\n",
       "      <td>busi preapprov receiv escapenumb usd today has...</td>\n",
       "      <td>0</td>\n",
       "      <td>0.119697</td>\n",
       "      <td>1.119697</td>\n",
       "    </tr>\n",
       "  </tbody>\n",
       "</table>\n",
       "<p>5127 rows × 6 columns</p>\n",
       "</div>"
      ],
      "text/plain": [
       "      label                                               text  \\\n",
       "0         0  hello in the license header of a source file b...   \n",
       "1         1  and pensive by turns lost his appetite neglect...   \n",
       "2         1  symbol alert http sescapenumber bilder hosting...   \n",
       "3         0  the internet patrol internet safety windows up...   \n",
       "4         0   escapenumberfxml version escapenumberd escape...   \n",
       "...     ...                                                ...   \n",
       "5122      1  summer bees were sayingthat this mud draws on ...   \n",
       "5123      1  gentile cliente di banca rasbank il servizio t...   \n",
       "5124      0  on mon escapenumber escapenumber escapenumber ...   \n",
       "5125      1  trading escapelong for you special situation a...   \n",
       "5126      1  as a business you have been preapproved to rec...   \n",
       "\n",
       "                                           cleaned_text  special_chars  \\\n",
       "0     hello licens header sourc file licens gpl must...              0   \n",
       "1     pensiv turn lost appetit neglect dress devot m...             10   \n",
       "2     symbol alert http sescapenumb bilder host de i...              0   \n",
       "3     internet patrol internet safeti window updat i...              3   \n",
       "4     escapenumberfxml version escapenumberd escapen...              0   \n",
       "...                                                 ...            ...   \n",
       "5122  summer bee sayingthat mud draw stone hand free...              1   \n",
       "5123  gentil client di banca rasbank il servizio tec...              0   \n",
       "5124  mon escapenumb escapenumb escapenumb escapenum...              6   \n",
       "5125  trade escapelong special situat alert tmxo tri...              0   \n",
       "5126  busi preapprov receiv escapenumb usd today has...              0   \n",
       "\n",
       "      sentiment_polarity  adjusted_sentiment  \n",
       "0               0.091667            1.091667  \n",
       "1               0.051031            1.051031  \n",
       "2               0.000000            1.000000  \n",
       "3               0.256111            1.256111  \n",
       "4               0.152706            1.152706  \n",
       "...                  ...                 ...  \n",
       "5122            0.128571            1.128571  \n",
       "5123            0.416667            1.416667  \n",
       "5124            0.175982            1.175982  \n",
       "5125            0.179683            1.179683  \n",
       "5126            0.119697            1.119697  \n",
       "\n",
       "[5127 rows x 6 columns]"
      ]
     },
     "execution_count": 251,
     "metadata": {},
     "output_type": "execute_result"
    }
   ],
   "source": [
    "df_test['sentiment_polarity'] = df_test['text'].apply(get_sentiment)\n",
    "df_test['adjusted_sentiment'] = df_test['sentiment_polarity'].apply(adjust_sentiment)\n",
    "df_test"
   ]
  },
  {
   "cell_type": "code",
   "execution_count": 254,
   "id": "5ff2d5be-731b-4fc5-bdb8-67c6a4a239a4",
   "metadata": {
    "tags": []
   },
   "outputs": [],
   "source": [
    "# Separate features and labels\n",
    "X_new = df_test.drop('label', axis=1)\n",
    "y_true = df_test['label']"
   ]
  },
  {
   "cell_type": "code",
   "execution_count": 255,
   "id": "368234b9-74ea-4991-a881-d8202bb7a5d1",
   "metadata": {
    "tags": []
   },
   "outputs": [],
   "source": [
    "# Load the pipelines\n",
    "nb_pipeline = joblib.load('nb_pipeline.pkl')\n",
    "rf_pipeline = joblib.load('rf_pipeline.pkl')"
   ]
  },
  {
   "cell_type": "code",
   "execution_count": 256,
   "id": "248a55b4-4f5b-4455-9a32-e9d421e3163c",
   "metadata": {
    "tags": []
   },
   "outputs": [],
   "source": [
    "nb_predictions = nb_pipeline.predict(X_new)\n",
    "rf_predictions = rf_pipeline.predict(X_new)\n"
   ]
  },
  {
   "cell_type": "code",
   "execution_count": 257,
   "id": "c2b4da21-21dd-49ab-884a-152011fb2b53",
   "metadata": {
    "tags": []
   },
   "outputs": [
    {
     "name": "stdout",
     "output_type": "stream",
     "text": [
      "Naive Bayes - Accuracy: 0.78\n",
      "Random Forest - Accuracy: 0.95\n"
     ]
    }
   ],
   "source": [
    "def evaluate_model(name, predictions, labels):\n",
    "    accuracy = accuracy_score(labels, predictions)\n",
    "    print(f\"{name} - Accuracy: {accuracy:.2f}\")\n",
    "\n",
    "# Evaluate Naive Bayes model\n",
    "evaluate_model(\"Naive Bayes\", nb_predictions, y_true)\n",
    "\n",
    "# Evaluate Random Forest model\n",
    "evaluate_model(\"Random Forest\", rf_predictions, y_true)\n"
   ]
  },
  {
   "cell_type": "markdown",
   "id": "d076ad00-75ac-490b-b4c4-eeab44419ee2",
   "metadata": {},
   "source": [
    "import zipfile\n",
    "\n",
    "with zipfile.ZipFile('your_file.zip', 'w', compression=zipfile.ZIP_DEFLATED) as zip_file:\n",
    "\tzip_file.write('your_file.pkl')## Model Performance Evaluation\n",
    "\n",
    "### Naive Bayes:\n",
    "\n",
    "- **Before Update:** \n",
    "  - The Naive Bayes model achieved an accuracy of 0.78.\n",
    "- **After Update:** \n",
    "  - The accuracy remains unchanged at 0.78.\n",
    "\n",
    "### Random Forest:\n",
    "\n",
    "- **Before Update:** \n",
    "  - Previously, the Random Forest model had an accuracy of 0.89.\n",
    "- **After Update:** \n",
    "  - The model shows a significant improvement, with accuracy increasing to 0.95.\n",
    "\n",
    "### Analysis:\n",
    "\n",
    "The improvement in the Random Forest model's accuracy suggests that recent updates, possibly including adjustments in model parameters, feature engineering, or data preprocessing, have effectively enhanced its predictive capabilities. This increase could also be attributed to better handling of the model's complexity and its ability to learn more nuanced patterns in the data.\n",
    "\n",
    "The stability in performance of the Naive Bayes model may require further investigation to identify potential areas for improvement, perhaps exploring alternative feature engineering techniques or model tuning strategies.\n"
   ]
  }
 ],
 "metadata": {
  "kernelspec": {
   "display_name": "Python 3 (ipykernel)",
   "language": "python",
   "name": "python3"
  },
  "language_info": {
   "codemirror_mode": {
    "name": "ipython",
    "version": 3
   },
   "file_extension": ".py",
   "mimetype": "text/x-python",
   "name": "python",
   "nbconvert_exporter": "python",
   "pygments_lexer": "ipython3",
   "version": "3.11.5"
  }
 },
 "nbformat": 4,
 "nbformat_minor": 5
}
